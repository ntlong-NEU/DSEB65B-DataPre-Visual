{
 "cells": [
  {
   "cell_type": "markdown",
   "metadata": {},
   "source": [
    "# Lesson 8: Feature Selection\n",
    "\n",
    "---"
   ]
  },
  {
   "cell_type": "markdown",
   "metadata": {},
   "source": [
    "## Introduction: Why Select Features?\n",
    "\n",
    "In a machine learning project, feature selection is one of the most crucial steps in the data preprocessing pipeline. It not only helps reduce computational cost but can also improve the model's performance. This lecture will introduce popular feature selection methods and how to apply them in Python using the `scikit-learn` library.\n",
    "\n",
    "Reducing the number of variables is necessary for the following reasons:\n",
    "\n",
    "- **Reduce Training Time:** Fewer features mean the model will train faster.\n",
    "- **Avoid the \"Curse of Dimensionality\":** As the number of features increases, the data space becomes very large and sparse, making it more difficult to build a good model.\n",
    "- **Improve Model Performance:** Removing irrelevant or redundant features can help the model focus on important signals, thereby improving accuracy and generalization capabilities.\n",
    "- **Increase Interpretability:** A model with fewer features is easier to understand and interpret."
   ]
  },
  {
   "cell_type": "markdown",
   "metadata": {},
   "source": [
    "## What Methods Are Available?\n",
    "\n",
    "Feature selection methods are generally divided into three main groups:\n",
    "\n",
    "1.  **Filter Methods:** Use statistical measures to rank features. Features are selected or removed independently of any machine learning algorithm. These methods are fast and computationally inexpensive.\n",
    "2.  **Wrapper Methods:** Use a predictive model to evaluate subsets of features. Each new subset is used to train a model, which is then tested on an evaluation dataset. Selecting the \"best\" subset is treated as a search problem. These methods often yield the best performance but are computationally expensive.\n",
    "3.  **Embedded Methods:** Machine learning algorithms that perform feature selection as part of the model training process. Typical examples include regularized regression models like Lasso, or decision tree-based models.\n",
    "\n",
    "In this lesson, we will delve into each method."
   ]
  },
  {
   "cell_type": "markdown",
   "metadata": {},
   "source": [
    "# Part I: Filter Methods\n",
    "\n",
    "---"
   ]
  },
  {
   "cell_type": "markdown",
   "metadata": {},
   "source": [
    "These methods assess the relationship between each input feature and the target variable using statistical tests. We will categorize these methods based on the data types of the input and target variables."
   ]
  },
  {
   "cell_type": "markdown",
   "metadata": {},
   "source": [
    "## 1. Categorical Input & Categorical Output\n",
    "\n",
    "Common methods in this case are the **Chi-Squared Test** and **Mutual Information**."
   ]
  },
  {
   "cell_type": "markdown",
   "metadata": {},
   "source": [
    "### 1.1. Chi-Squared Statistic"
   ]
  },
  {
   "cell_type": "markdown",
   "metadata": {},
   "source": [
    "#### Definition and Formula\n",
    "The Chi-squared test is a statistical hypothesis test used to determine if there is a significant association between two categorical variables. In feature selection, we want to test whether an input feature is independent of the target variable.\n",
    "\n",
    "- **H0 (Null Hypothesis):** The two variables are independent (the feature is not related to the target).\n",
    "- **H1 (Alternative Hypothesis):** The two variables are dependent (the feature is related to the target).\n",
    "\n",
    "We calculate the χ² statistic for each feature. A high χ² value suggests that we can reject the null hypothesis, meaning the feature is dependent on the target variable and is therefore useful for the model.\n",
    "\n",
    "**Formula:**\n",
    "$$ \\chi^2 = \\sum \\frac{(O - E)^2}{E} $$\n",
    "Where:\n",
    "- $O$ is the Observed Frequency.\n",
    "- $E$ is the Expected Frequency if the two variables were independent."
   ]
  },
  {
   "cell_type": "markdown",
   "metadata": {},
   "source": [
    "#### When to Use?\n",
    "Use when you have a classification problem and the input features are also categorical (e.g., 'gender', 'color', 'age group').\n",
    "- **Pros:** Simple, fast, easy to interpret.\n",
    "- **Cons:** Requires the expected frequency in each cell of the contingency table not to be too small (typically > 5)."
   ]
  },
  {
   "cell_type": "markdown",
   "metadata": {},
   "source": [
    "#### Simple Illustrative Example\n",
    "Imagine we have data on pet adoption (`'Dog'` or `'Cat'`) based on the adopter's gender (`'Male'` or `'Female'`). We can create a contingency table:\n",
    "\n",
    "|         | Dog | Cat |\n",
    "|---------|-----|-----|\n",
    "| **Male**| 30  | 10  |\n",
    "| **Female**| 20  | 40  |\n",
    "\n",
    "The Chi-squared test will calculate whether this distribution is significantly different from what would be expected if gender and pet choice were completely independent. A high χ² value would indicate a relationship, and thus the 'gender' feature is useful for predicting 'pet'."
   ]
  },
  {
   "cell_type": "markdown",
   "metadata": {},
   "source": [
    "#### Frequently Asked Questions (FAQ)\n",
    "- **Why is data encoding necessary?** `chi2` requires non-negative numerical inputs. `OrdinalEncoder` and `LabelEncoder` convert categories into integers to meet this requirement.\n"
   ]
  },
  {
   "cell_type": "markdown",
   "metadata": {},
   "source": [
    "### 1.2. Mutual Information Statistic"
   ]
  },
  {
   "cell_type": "markdown",
   "metadata": {},
   "source": [
    "#### Definition and Formula\n",
    "Mutual Information (MI) measures the dependency between two variables, quantified as the amount of information (in bits or nats) obtained about one variable through observing the other variable.\n",
    "\n",
    "**Formula:**\n",
    "$$ I(X; Y) = \\sum_{y \\in Y} \\sum_{x \\in X} p(x, y) \\log\\left(\\frac{p(x, y)}{p(x)p(y)}\\right) $$\n",
    "\n",
    "- An MI value of 0 indicates that the two variables are independent.\n",
    "- The larger the MI value, the stronger the dependency between the two variables.\n",
    "Unlike Pearson's correlation, which only measures linear relationships, MI can capture non-linear relationships as well."
   ]
  },
  {
   "cell_type": "markdown",
   "metadata": {},
   "source": [
    "#### When to Use?\n",
    "MI is very flexible and can be used for both categorical and numerical variables.\n",
    "- **Pros:** Can capture any kind of relationship (linear and non-linear). More powerful than Chi-Squared.\n",
    "- **Cons:** Requires more data for accurate estimation, and the scores can be harder to interpret directly compared to other methods."
   ]
  },
  {
   "cell_type": "markdown",
   "metadata": {},
   "source": [
    "#### Simple Illustrative Example\n",
    "While Chi-squared only indicates whether two variables are dependent, Mutual Information quantifies the strength of that dependency. If the MI of feature A with the target is 0.5 and that of feature B is 0.1, we can say that feature A contains more information about the target variable than feature B."
   ]
  },
  {
   "cell_type": "markdown",
   "metadata": {},
   "source": [
    "#### Frequently Asked Questions (FAQ)\n",
    "- **How does MI compare to Chi-Squared?** The ranking of features may differ between the two methods. MI can detect relationships that Chi-Squared might miss. It's a good strategy to try both and see which method yields better model performance."
   ]
  },
  {
   "cell_type": "markdown",
   "metadata": {},
   "source": [
    "### 1.3. Tools with Scikit-learn"
   ]
  },
  {
   "cell_type": "markdown",
   "metadata": {},
   "source": [
    "Scikit-learn provides flexible classes for feature selection based on scores. The two most common are:\n",
    "\n",
    "#### 1.3.1. SelectKBest\n",
    "`SelectKBest` selects a fixed number `k` of features with the highest scores. You must decide on the value of `k`. This is the most popular choice.\n",
    "\n",
    "#### 1.3.2. SelectPercentile\n",
    "`SelectPercentile` selects a percentage of features with the highest scores. For example, if `percentile=10`, it will select the top 10% of features."
   ]
  },
  {
   "cell_type": "markdown",
   "metadata": {},
   "source": [
    "#### Lab 1: Applying the Chi-Squared Filter Method"
   ]
  },
  {
   "cell_type": "markdown",
   "metadata": {},
   "source": [
    "**Breast Cancer Dataset Introduction:** The Breast Cancer dataset from UCI contains characteristics of tumors extracted from images. The goal is to classify a tumor as benign (`'no-recurrence-events'`) or malignant (`'recurrence-events'`). This data is mostly categorical, making it well-suited for practice."
   ]
  },
  {
   "cell_type": "code",
   "execution_count": 1,
   "metadata": {},
   "outputs": [
    {
     "name": "stdout",
     "output_type": "stream",
     "text": [
      "Chi-Squared scores for each feature:\n",
      "Feature 0: 0.473\n",
      "Feature 1: 0.029\n",
      "Feature 2: 2.138\n",
      "Feature 3: 29.381\n",
      "Feature 4: 8.223\n",
      "Feature 5: 8.100\n",
      "Feature 6: 1.274\n",
      "Feature 7: 0.951\n",
      "Feature 8: 3.700\n"
     ]
    },
    {
     "data": {
      "image/png": "[encoded data removed]",
      "text/plain": [
       "<Figure size 1000x600 with 1 Axes>"
      ]
     },
     "metadata": {},
     "output_type": "display_data"
    }
   ],
   "source": [
    "import pandas as pd\n",
    "from sklearn.model_selection import train_test_split\n",
    "from sklearn.preprocessing import LabelEncoder, OrdinalEncoder\n",
    "from sklearn.feature_selection import SelectKBest, chi2\n",
    "from sklearn.linear_model import LogisticRegression\n",
    "from sklearn.metrics import accuracy_score\n",
    "import matplotlib.pyplot as plt\n",
    "\n",
    "# --- 1. Load and Prepare Data ---\n",
    "url = 'https://raw.githubusercontent.com/jbrownlee/Datasets/master/breast-cancer.csv'\n",
    "df = pd.read_csv(url, header=None)\n",
    "dataset = df.values\n",
    "X = dataset[:, :-1].astype(str)\n",
    "y = dataset[:, -1].astype(str)\n",
    "\n",
    "# Split data\n",
    "X_train, X_test, y_train, y_test = train_test_split(X, y, test_size=0.33, random_state=1)\n",
    "\n",
    "# Encode input features\n",
    "oe = OrdinalEncoder()\n",
    "oe.fit(X_train)\n",
    "X_train_enc = oe.transform(X_train)\n",
    "X_test_enc = oe.transform(X_test)\n",
    "\n",
    "# Encode target variable\n",
    "le = LabelEncoder()\n",
    "le.fit(y_train)\n",
    "y_train_enc = le.transform(y_train)\n",
    "y_test_enc = le.transform(y_test)\n",
    "\n",
    "# --- 2. Calculate and Visualize Chi-Squared Scores ---\n",
    "# Use k='all' to get scores for all features\n",
    "fs = SelectKBest(score_func=chi2, k='all')\n",
    "fs.fit(X_train_enc, y_train_enc)\n",
    "\n",
    "# Print the scores\n",
    "print(\"Chi-Squared scores for each feature:\")\n",
    "for i in range(len(fs.scores_)):\n",
    "    print(f'Feature {i}: {fs.scores_[i]:.3f}')\n",
    "\n",
    "# Plot the scores\n",
    "plt.figure(figsize=(10, 6))\n",
    "plt.bar([i for i in range(len(fs.scores_))], fs.scores_)\n",
    "plt.xlabel('Feature Index')\n",
    "plt.ylabel('Chi-Squared Score')\n",
    "plt.title('Feature Importance according to Chi-Squared')\n",
    "plt.show()\n"
   ]
  },
  {
   "cell_type": "code",
   "execution_count": 2,
   "metadata": {},
   "outputs": [
    {
     "name": "stdout",
     "output_type": "stream",
     "text": [
      "\n",
      "Indices of 4 selected features: [np.int64(3), np.int64(4), np.int64(5), np.int64(8)]\n",
      "Accuracy with SelectKBest(chi2, k=4): 0.747\n"
     ]
    }
   ],
   "source": [
    "\n",
    "# --- 3. Select k=4 best features and evaluate ---\n",
    "# Based on the plot, we decide to select k=4\n",
    "selector_kbest = SelectKBest(score_func=chi2, k=4)\n",
    "selector_kbest.fit(X_train_enc, y_train_enc)\n",
    "\n",
    "# Get the selected columns\n",
    "selected_indices = selector_kbest.get_support(indices=True)\n",
    "print(f\"\\nIndices of 4 selected features: {list(selected_indices)}\")\n",
    "\n",
    "# Transform the training and test sets\n",
    "X_train_fs = selector_kbest.transform(X_train_enc)\n",
    "X_test_fs = selector_kbest.transform(X_test_enc)\n",
    "\n",
    "# Train a model and evaluate\n",
    "model = LogisticRegression(solver='lbfgs')\n",
    "model.fit(X_train_fs, y_train_enc)\n",
    "y_pred = model.predict(X_test_fs)\n",
    "accuracy = accuracy_score(y_test_enc, y_pred)\n",
    "print(f'Accuracy with SelectKBest(chi2, k=4): {accuracy:.3f}')"
   ]
  },
  {
   "cell_type": "markdown",
   "metadata": {},
   "source": [
    "#### Introduction to Key Parameters\n",
    "**`SelectKBest`**\n",
    "- `score_func`: The scoring function to use (e.g., `chi2`, `mutual_info_classif`).\n",
    "- `k`: The number of features to select. You can set it to `'all'` to view all scores before deciding on a specific value."
   ]
  },
  {
   "cell_type": "markdown",
   "metadata": {},
   "source": [
    "## 2. Numerical Input & Categorical Output\n",
    "\n",
    "Common methods include:\n",
    "1. **ANOVA F-Statistic:** Measures the difference in mean values of a numerical feature across classes.\n",
    "2. **Mutual Information Statistic:** Measures the general dependency (both linear and non-linear) between a numerical feature and the classes.\n",
    "3. **Kendall’s Rank Coefficient:** (Advanced) Useful when the categorical variable is ordinal (e.g., 'low', 'medium', 'high'). It measures rank-based correlation."
   ]
  },
  {
   "cell_type": "markdown",
   "metadata": {},
   "source": [
    "### 2.1. ANOVA F-Statistic"
   ]
  },
  {
   "cell_type": "markdown",
   "metadata": {},
   "source": [
    "#### Definition and Formula\n",
    "The ANOVA F-test is a statistical test used to determine if there is a significant difference in the mean of a numerical variable across two or more groups. If a feature's mean value varies significantly across classes, it is likely a good predictor.\n",
    "\n",
    "**Formula:**\n",
    "$$ F = \\frac{\\text{variance between groups}}{\\text{variance within groups}} $$\n",
    "\n",
    "The larger the F-value, the more distinct the groups are, and the more important the feature."
   ]
  },
  {
   "cell_type": "markdown",
   "metadata": {},
   "source": [
    "#### When to Use?\n",
    "Use when you have a classification problem and numerical input features (e.g., 'age', 'income', 'temperature').\n",
    "- **Pros:** Very effective at finding linear relationships (differences in means).\n",
    "- **Cons:** Assumes that the data is normally distributed and has equal variance among groups (though it's fairly robust in practice)."
   ]
  },
  {
   "cell_type": "markdown",
   "metadata": {},
   "source": [
    "#### Simple Illustrative Example\n",
    "Suppose we want to predict if a person has heart disease (`'Yes'`, `'No'`) based on their 'age'. ANOVA would compare:\n",
    "- The average 'age' of the group with heart disease.\n",
    "- The average 'age' of the group without heart disease.\n",
    "If these two averages are significantly different, then 'age' is a good feature."
   ]
  },
  {
   "cell_type": "markdown",
   "metadata": {},
   "source": [
    "#### Lab 2: Applying ANOVA F-test"
   ]
  },
  {
   "cell_type": "markdown",
   "metadata": {},
   "source": [
    "**Pima Indians Diabetes Dataset Introduction:** This dataset records medical metrics for women of the Pima Indian tribe and aims to predict whether a person has diabetes. The input features are numerical, and the target is categorical."
   ]
  },
  {
   "cell_type": "code",
   "execution_count": 3,
   "metadata": {},
   "outputs": [
    {
     "name": "stdout",
     "output_type": "stream",
     "text": [
      "Features selected by ANOVA (k=4): [0, 1, 5, 7]\n"
     ]
    },
    {
     "data": {
      "image/png": "[encoded data removed]",
      "text/plain": [
       "<Figure size 1000x600 with 1 Axes>"
      ]
     },
     "metadata": {},
     "output_type": "display_data"
    }
   ],
   "source": [
    "from sklearn.feature_selection import f_classif\n",
    "\n",
    "url = 'https://raw.githubusercontent.com/jbrownlee/Datasets/master/pima-indians-diabetes.csv'\n",
    "df_diabetes = pd.read_csv(url, header=None)\n",
    "dataset = df_diabetes.values\n",
    "X_diabetes = dataset[:, :-1]\n",
    "y_diabetes = dataset[:, -1]\n",
    "X_train_d, X_test_d, y_train_d, y_test_d = train_test_split(X_diabetes, y_diabetes, test_size=0.33, random_state=1)\n",
    "\n",
    "fs_anova = SelectKBest(score_func=f_classif, k=4)\n",
    "fs_anova.fit(X_train_d, y_train_d)\n",
    "\n",
    "# Get the selected features\n",
    "selected_indices = fs_anova.get_support(indices=True)\n",
    "selected_features = df_diabetes.columns[selected_indices]\n",
    "print(f'Features selected by ANOVA (k=4): {list(selected_features)}')\n",
    "\n",
    "# Plot scores for all features\n",
    "fs_anova_all = SelectKBest(score_func=f_classif, k='all')\n",
    "fs_anova_all.fit(X_train_d, y_train_d)\n",
    "plt.figure(figsize=(10, 6))\n",
    "plt.bar([i for i in range(len(fs_anova_all.scores_))], fs_anova_all.scores_)\n",
    "plt.xlabel('Feature Index')\n",
    "plt.ylabel('ANOVA F-value Score')\n",
    "plt.title('Feature Importance according to ANOVA F-test')\n",
    "plt.show()"
   ]
  },
  {
   "cell_type": "markdown",
   "metadata": {},
   "source": [
    "#### Introduction to Key Parameters\n",
    "The main tool is still `SelectKBest`.\n",
    "- `score_func`: Set to `f_classif`. This function calculates the ANOVA F-value for each numerical feature against the categorical target. The `f_classif` function itself has no parameters for the user to tune.\n",
    "- `k`: The most important parameter to decide how many features to keep."
   ]
  },
  {
   "cell_type": "markdown",
   "metadata": {},
   "source": [
    "## 3. Numerical Input & Numerical Output\n",
    "\n",
    "Common methods include:\n",
    "1. **Pearson’s Correlation Coefficient:** Measures linear relationships.\n",
    "2. **Spearman’s Rank Coefficient:** Measures monotonic relationships (including non-linear).\n",
    "3. **Mutual Information:** Measures general dependency."
   ]
  },
  {
   "cell_type": "markdown",
   "metadata": {},
   "source": [
    "### 3.1. Pearson's Correlation Coefficient"
   ]
  },
  {
   "cell_type": "markdown",
   "metadata": {},
   "source": [
    "#### Definition and Formula\n",
    "Pearson's correlation coefficient measures the **linear** relationship between two numerical variables. Its value ranges from -1 to +1.\n",
    "\n",
    "**Formula:**\n",
    "$$ r_{xy} = \\frac{\\sum_{i=1}^{n}(x_i - \\bar{x})(y_i - \\bar{y})}{\\sqrt{\\sum_{i=1}^{n}(x_i - \\bar{x})^2 \\sum_{i=1}^{n}(y_i - \\bar{y})^2}} $$"
   ]
  },
  {
   "cell_type": "markdown",
   "metadata": {},
   "source": [
    "#### When to Use?\n",
    "Use for regression problems with numerical inputs, assuming a linear relationship.\n",
    "- **Pros:** Fast, easy to understand, provides both magnitude and direction of the relationship.\n",
    "- **Cons:** Only captures linear relationships."
   ]
  },
  {
   "cell_type": "markdown",
   "metadata": {},
   "source": [
    "### 3.2. Spearman's Rank Coefficient"
   ]
  },
  {
   "cell_type": "markdown",
   "metadata": {},
   "source": [
    "#### Definition\n",
    "Instead of using the raw values, Spearman's coefficient calculates Pearson's correlation on the **ranks** of the data. This allows it to detect **monotonic** relationships, where as one variable increases, the other consistently increases (or decreases), but not necessarily in a straight line.\n",
    "\n",
    "#### When to Use?\n",
    "When you suspect the relationship is not linear but still monotonic, or when the data has outliers, as ranks are less affected by them."
   ]
  },
  {
   "cell_type": "markdown",
   "metadata": {},
   "source": [
    "#### Lab 3: Applying Filter Methods for Regression Problems"
   ]
  },
  {
   "cell_type": "code",
   "execution_count": 4,
   "metadata": {},
   "outputs": [
    {
     "data": {
      "image/png": "[encoded data removed]",
      "text/plain": [
       "<Figure size 1500x500 with 2 Axes>"
      ]
     },
     "metadata": {},
     "output_type": "display_data"
    }
   ],
   "source": [
    "from sklearn.datasets import make_regression\n",
    "from sklearn.feature_selection import f_regression, mutual_info_regression\n",
    "import numpy as np\n",
    "\n",
    "# Create a regression dataset\n",
    "X_reg, y_reg = make_regression(n_samples=1000, n_features=20, n_informative=5, noise=0.1, random_state=1)\n",
    "\n",
    "# 1. Pearson's Correlation (via f_regression)\n",
    "fs_pearson = SelectKBest(score_func=f_regression, k='all')\n",
    "fs_pearson.fit(X_reg, y_reg)\n",
    "\n",
    "# 2. Mutual Information\n",
    "fs_mi_reg = SelectKBest(score_func=mutual_info_regression, k='all')\n",
    "fs_mi_reg.fit(X_reg, y_reg)\n",
    "\n",
    "# Plot for comparison\n",
    "plt.figure(figsize=(15, 5))\n",
    "plt.subplot(1, 2, 1)\n",
    "plt.bar(range(len(fs_pearson.scores_)), fs_pearson.scores_)\n",
    "plt.title(\"Pearson's F-regression Score\")\n",
    "plt.subplot(1, 2, 2)\n",
    "plt.bar(range(len(fs_mi_reg.scores_)), fs_mi_reg.scores_)\n",
    "plt.title('Mutual Information Score')\n",
    "plt.show()"
   ]
  },
  {
   "cell_type": "markdown",
   "metadata": {},
   "source": [
    "#### Introduction to Key Parameters\n",
    "The tool is still `SelectKBest`, but with different scoring functions:\n",
    "- `score_func`: \n",
    "    - `f_regression`: Calculates an F-statistic based on Pearson's correlation. Useful for linear relationships.\n",
    "    - `mutual_info_regression`: Estimates mutual information for a continuous target variable. Useful for non-linear relationships."
   ]
  },
  {
   "cell_type": "markdown",
   "metadata": {},
   "source": [
    "# Part II: Wrapper & Embedded Methods\n",
    "\n",
    "---"
   ]
  },
  {
   "cell_type": "markdown",
   "metadata": {},
   "source": [
    "## 1. Wrapper Methods"
   ]
  },
  {
   "cell_type": "markdown",
   "metadata": {},
   "source": [
    "### 1.1. Concept and Principles\n",
    "Wrapper methods are techniques that search for subsets of features based on the performance of a specific predictive model.\n",
    "- **Model Evaluation:** Wrapper methods evaluate multiple models using iterative processes to add and/or remove predictor variables to find the optimal combination that maximizes model performance.\n",
    "- **Feature Subset:** This technique works by searching for subsets of features that yield the best performance for a given predictive model.\n",
    "- **Computationally Intensive:** Wrapper methods can be significantly expensive in terms of computation, especially for large datasets and complex models.\n",
    "- **Variable Type Independent:** Wrapper methods are generally not constrained by the data type of the input variables (e.g., numerical or categorical)."
   ]
  },
  {
   "cell_type": "markdown",
   "metadata": {},
   "source": [
    "### 1.2. Classification of Search Strategies\n",
    "Since testing all possible feature subsets is computationally infeasible (for N features, there are $2^N-1$ subsets), wrapper methods use heuristic search strategies to efficiently find a good subset:\n",
    "\n",
    "- **Stochastic Global Search:** Algorithms like simulated annealing or genetic algorithms can be used to search for optimal feature subsets.\n",
    "- **Stepwise Methods:** Simpler methods that involve systematically adding or removing features from the model until no further improvement is observed. Examples include:\n",
    "    - **Forward Selection:** Starts with an empty set and iteratively adds the feature that improves model performance the most.\n",
    "    - **Backward Elimination:** Starts with all features and iteratively removes the least important feature. **RFE is a prime example of this strategy.**"
   ]
  },
  {
   "cell_type": "markdown",
   "metadata": {},
   "source": [
    "### 1.3. A Typical Example: Recursive Feature Elimination (RFE)"
   ]
  },
  {
   "cell_type": "markdown",
   "metadata": {},
   "source": [
    "#### Definition and Principles\n",
    "RFE is a wrapper-style feature selection method. It works by recursively building a model and, at each step, removing the weakest feature(s) until the desired number of features is reached.\n",
    "\n",
    "**How RFE Works:**\n",
    "1. Train a model on the entire set of features (e.g., `LogisticRegression`, `DecisionTreeClassifier`). This model must provide a measure of feature importance (via `coef_` or `feature_importances_` attributes).\n",
    "2. Find and remove the feature with the lowest importance.\n",
    "3. Repeat the process with the remaining features until the number of features is reduced to the desired number, `k`."
   ]
  },
  {
   "cell_type": "markdown",
   "metadata": {},
   "source": [
    "#### When to Use?\n",
    "RFE is very useful because it considers not just individual features but also their interactions.\n",
    "- **Pros:** Often yields better model performance than filter methods because it considers feature interactions.\n",
    "- **Cons:** Computationally expensive, as it requires training the model multiple times. Risks overfitting if not used carefully with cross-validation."
   ]
  },
  {
   "cell_type": "markdown",
   "metadata": {},
   "source": [
    "#### Lab 4: Feature Selection with RFE"
   ]
  },
  {
   "cell_type": "code",
   "execution_count": 5,
   "metadata": {},
   "outputs": [
    {
     "name": "stdout",
     "output_type": "stream",
     "text": [
      "Mean Accuracy with RFE: 0.807 (±0.044)\n",
      "\n",
      "RFE Selection Results:\n",
      "Column 0: Selected=False, Rank=3\n",
      "Column 1: Selected=False, Rank=5\n",
      "Column 2: Selected=True, Rank=1\n",
      "Column 3: Selected=True, Rank=1\n",
      "Column 4: Selected=True, Rank=1\n",
      "Column 5: Selected=False, Rank=6\n",
      "Column 6: Selected=True, Rank=1\n",
      "Column 7: Selected=False, Rank=2\n",
      "Column 8: Selected=True, Rank=1\n",
      "Column 9: Selected=False, Rank=4\n"
     ]
    }
   ],
   "source": [
    "from sklearn.datasets import make_classification\n",
    "from sklearn.feature_selection import RFE\n",
    "from sklearn.tree import DecisionTreeClassifier\n",
    "from sklearn.pipeline import Pipeline\n",
    "from sklearn.model_selection import RepeatedStratifiedKFold, cross_val_score\n",
    "import numpy as np\n",
    "\n",
    "X_clf, y_clf = make_classification(n_samples=1000, n_features=10, n_informative=5, n_redundant=5, random_state=1)\n",
    "\n",
    "rfe = RFE(estimator=DecisionTreeClassifier(), n_features_to_select=5)\n",
    "model = LogisticRegression(solver='lbfgs')\n",
    "pipeline = Pipeline(steps=[('s', rfe), ('m', model)])\n",
    "\n",
    "cv = RepeatedStratifiedKFold(n_splits=10, n_repeats=3, random_state=1)\n",
    "n_scores = cross_val_score(pipeline, X_clf, y_clf, scoring='accuracy', cv=cv, n_jobs=-1)\n",
    "\n",
    "print(f'Mean Accuracy with RFE: {np.mean(n_scores):.3f} (±{np.std(n_scores):.3f})')\n",
    "\n",
    "rfe_standalone = RFE(estimator=DecisionTreeClassifier(), n_features_to_select=5)\n",
    "rfe_standalone.fit(X_clf, y_clf)\n",
    "\n",
    "print(\"\\nRFE Selection Results:\")\n",
    "for i in range(X_clf.shape[1]):\n",
    "    print(f'Column {i}: Selected={rfe_standalone.support_[i]}, Rank={rfe_standalone.ranking_[i]}')"
   ]
  },
  {
   "cell_type": "markdown",
   "metadata": {},
   "source": [
    "#### Introduction to Key Parameters (`RFE`)\n",
    "- `estimator`: The machine learning model used to evaluate feature importance. This model must have a `coef_` or `feature_importances_` attribute.\n",
    "- `n_features_to_select`: (int or float, default=None) The final number of features to keep. If `None`, half of the features will be selected.\n",
    "- `step`: (int or float, default=1) The number of features to remove at each iteration. If `step=1`, the weakest feature is removed each time. If `step=0.1`, 10% of features are removed each time."
   ]
  },
  {
   "cell_type": "markdown",
   "metadata": {},
   "source": [
    "#### Frequently Asked Questions (FAQ)\n",
    "- **How to find the optimal number of features?** `sklearn` provides the `RFECV` class, an enhanced version of `RFE` that automatically finds the optimal number of features through cross-validation."
   ]
  },
  {
   "cell_type": "markdown",
   "metadata": {},
   "source": [
    "## 2. Embedded Methods / Feature Importance"
   ]
  },
  {
   "cell_type": "markdown",
   "metadata": {},
   "source": [
    "Many machine learning models, during their training process, inherently calculate and assign a score to each input feature that reflects its usefulness. This is an embedded method because feature selection is performed within the model itself."
   ]
  },
  {
   "cell_type": "markdown",
   "metadata": {},
   "source": [
    "### 2.1. Coefficients as Feature Importance"
   ]
  },
  {
   "cell_type": "markdown",
   "metadata": {},
   "source": [
    "#### Definition\n",
    "Linear models (e.g., `LogisticRegression`, `LinearRegression`) assign a coefficient to each feature. The absolute value of this coefficient can be used as a measure of importance. The larger the coefficient, the greater the feature's influence on the prediction."
   ]
  },
  {
   "cell_type": "markdown",
   "metadata": {},
   "source": [
    "#### When to Use?\n",
    "When using linear models. It's very fast and efficient, but requires features to be scaled to fairly compare coefficients. This method only captures linear relationships."
   ]
  },
  {
   "cell_type": "markdown",
   "metadata": {},
   "source": [
    "#### Simple Illustrative Example\n",
    "Suppose a linear regression model learns the formula `House_Price = 150 * Area - 5000 * Distance_to_Center`. The coefficient `150` for `Area` indicates that each additional square meter increases the price (positive influence), while the coefficient `-5000` for `Distance_to_Center` indicates that each additional kilometer from the center decreases the price (negative influence). In terms of magnitude, `Distance_to_Center` appears more important (if the data is scaled)."
   ]
  },
  {
   "cell_type": "markdown",
   "metadata": {},
   "source": [
    "#### Lab 5a: Using Coefficients of Logistic Regression"
   ]
  },
  {
   "cell_type": "code",
   "execution_count": 6,
   "metadata": {},
   "outputs": [
    {
     "data": {
      "image/png": "[encoded data removed]",
      "text/plain": [
       "<Figure size 1000x600 with 1 Axes>"
      ]
     },
     "metadata": {},
     "output_type": "display_data"
    }
   ],
   "source": [
    "X_clf, y_clf = make_classification(n_samples=1000, n_features=10, n_informative=5, n_redundant=5, random_state=1)\n",
    "model_lr = LogisticRegression(solver='lbfgs')\n",
    "model_lr.fit(X_clf, y_clf)\n",
    "importance_lr = model_lr.coef_[0]\n",
    "\n",
    "plt.figure(figsize=(10, 6))\n",
    "plt.bar(range(len(importance_lr)), importance_lr)\n",
    "plt.title('Coefficients of Logistic Regression')\n",
    "plt.show()"
   ]
  },
  {
   "cell_type": "code",
   "execution_count": 9,
   "metadata": {},
   "outputs": [
    {
     "data": {
      "image/png": "[encoded data removed]",
      "text/plain": [
       "<Figure size 1000x600 with 1 Axes>"
      ]
     },
     "metadata": {},
     "output_type": "display_data"
    }
   ],
   "source": [
    "importance_lr = np.absolute(model_lr.coef_[0])\n",
    "\n",
    "plt.figure(figsize=(10, 6))\n",
    "plt.bar(range(len(importance_lr)), importance_lr)\n",
    "plt.title('Coefficients of Logistic Regression')\n",
    "plt.show()"
   ]
  },
  {
   "cell_type": "markdown",
   "metadata": {},
   "source": [
    "#### Introduction to Key Parameters (`LogisticRegression`)\n",
    "Parameters that affect the model's coefficients include:\n",
    "- `penalty`: (`'l1'`, `'l2'`, `'elasticnet'`, `'none'`, default=`'l2'`) The type of regularization used. `'l1'` (Lasso) can push the coefficients of unimportant features to zero, thus performing feature selection itself.\n",
    "- `C`: (float, default=`1.0`) Inverse of regularization strength. Smaller values of `C` correspond to stronger regularization, which can shrink the coefficients."
   ]
  },
  {
   "cell_type": "markdown",
   "metadata": {},
   "source": [
    "### 2.2. Decision Tree Feature Importance"
   ]
  },
  {
   "cell_type": "markdown",
   "metadata": {},
   "source": [
    "#### Definition\n",
    "Models like `DecisionTree`, `RandomForest`, and `GradientBoosting` calculate importance based on how much a feature improves the purity of the nodes in a tree (e.g., by reducing Gini impurity or entropy) whenever it is chosen for a split. A feature's importance is the total reduction in impurity it provides across all trees in an ensemble (like RandomForest), normalized to sum to 1."
   ]
  },
  {
   "cell_type": "markdown",
   "metadata": {},
   "source": [
    "#### When to Use?\n",
    "When using tree-based models. It's very powerful as it can capture non-linear interactions. However, it can be biased towards high cardinality categorical features and numerical features."
   ]
  },
  {
   "cell_type": "markdown",
   "metadata": {},
   "source": [
    "#### Simple Illustrative Example\n",
    "Imagine a decision tree trying to classify emails as 'spam' or 'not spam'. If splitting the data based on the feature `contains_promo_keyword` results in the largest reduction in class confusion (the biggest drop in Gini impurity), this feature will receive a high importance score."
   ]
  },
  {
   "cell_type": "markdown",
   "metadata": {},
   "source": [
    "#### Lab 5b: Using Feature Importance from Random Forest"
   ]
  },
  {
   "cell_type": "code",
   "execution_count": 10,
   "metadata": {},
   "outputs": [
    {
     "data": {
      "image/png": "[encoded data removed]",
      "text/plain": [
       "<Figure size 1000x600 with 1 Axes>"
      ]
     },
     "metadata": {},
     "output_type": "display_data"
    }
   ],
   "source": [
    "from sklearn.ensemble import RandomForestClassifier\n",
    "\n",
    "X_clf, y_clf = make_classification(n_samples=1000, n_features=10, n_informative=5, n_redundant=5, random_state=1)\n",
    "\n",
    "model_rf = RandomForestClassifier(random_state=1)\n",
    "model_rf.fit(X_clf, y_clf)\n",
    "importance_rf = model_rf.feature_importances_\n",
    "\n",
    "plt.figure(figsize=(10, 6))\n",
    "plt.bar(range(len(importance_rf)), importance_rf)\n",
    "plt.title('Feature Importance from Random Forest')\n",
    "plt.show()"
   ]
  },
  {
   "cell_type": "markdown",
   "metadata": {},
   "source": [
    "#### Introduction to Key Parameters (`RandomForestClassifier`)\n",
    "Model parameters can affect the feature importance results:\n",
    "- `n_estimators`: (int, default=100) The number of trees in the forest. A larger number of trees generally leads to more stable importance results.\n",
    "- `max_depth`: (int, default=None) The maximum depth of the tree. If unlimited, trees can become overly complex, and the importance scores might overfit to the training data."
   ]
  },
  {
   "cell_type": "markdown",
   "metadata": {},
   "source": [
    "### 2.3. Permutation Feature Importance"
   ]
  },
  {
   "cell_type": "markdown",
   "metadata": {},
   "source": [
    "#### Definition\n",
    "This is a model-agnostic method. It works by randomly shuffling the values of a single feature and measuring the decrease in the model's performance. The feature that causes the largest performance drop when shuffled is considered the most important."
   ]
  },
  {
   "cell_type": "markdown",
   "metadata": {},
   "source": [
    "#### When to Use?\n",
    "Can be applied to any fitted model. It is considered one of the most reliable methods as it directly measures a feature's importance to the model's performance on a specific dataset (usually a validation or test set). The main drawback is its computational cost."
   ]
  },
  {
   "cell_type": "markdown",
   "metadata": {},
   "source": [
    "#### Simple Illustrative Example\n",
    "1. Train a model and evaluate it on a validation set, achieving 90% accuracy.\n",
    "2. Take the 'age' feature column in the validation set and shuffle its values, keeping other columns intact.\n",
    "3. Use the trained model to predict again on this modified validation set. Suppose the accuracy drops to 70%.\n",
    "4. The importance of 'age' is calculated as the performance drop: 90% - 70% = 20%."
   ]
  },
  {
   "cell_type": "markdown",
   "metadata": {},
   "source": [
    "#### Lab 5c: Using Permutation Importance"
   ]
  },
  {
   "cell_type": "code",
   "execution_count": 11,
   "metadata": {},
   "outputs": [
    {
     "data": {
      "image/png": "[encoded data removed]",
      "text/plain": [
       "<Figure size 1000x600 with 1 Axes>"
      ]
     },
     "metadata": {},
     "output_type": "display_data"
    }
   ],
   "source": [
    "from sklearn.inspection import permutation_importance\n",
    "\n",
    "X_clf, y_clf = make_classification(n_samples=1000, n_features=10, n_informative=5, n_redundant=5, random_state=1)\n",
    "model_rf = RandomForestClassifier(random_state=1)\n",
    "model_rf.fit(X_clf, y_clf)\n",
    "\n",
    "results_perm = permutation_importance(model_rf, \n",
    "                                      X_clf, y_clf, \n",
    "                                      scoring='accuracy', \n",
    "                                      n_repeats=10, \n",
    "                                      random_state=1, \n",
    "                                      n_jobs=-1)\n",
    "importance_perm = results_perm.importances_mean\n",
    "\n",
    "plt.figure(figsize=(10, 6))\n",
    "plt.bar(range(len(importance_perm)), importance_perm)\n",
    "plt.title('Permutation Importance')\n",
    "plt.show()"
   ]
  },
  {
   "cell_type": "markdown",
   "metadata": {},
   "source": [
    "#### Introduction to Key Parameters (`permutation_importance`)\n",
    "- `estimator`: The fitted model.\n",
    "- `X`, `y`: The data used to calculate permutation importance. **It is highly recommended to use a validation or test set** to get the most objective assessment of feature importance.\n",
    "- `scoring`: The performance metric to use (e.g., `'accuracy'`, `'r2'`, `'neg_mean_squared_error'`).\n",
    "- `n_repeats`: (int, default=5) The number of times to repeat the permutation for each feature to get more stable results.\n",
    "- `random_state`: To ensure reproducible results."
   ]
  },
  {
   "cell_type": "markdown",
   "metadata": {},
   "source": [
    "# Part III: Summary\n",
    "\n",
    "---"
   ]
  },
  {
   "cell_type": "markdown",
   "metadata": {},
   "source": [
    "Feature selection is an essential step for building effective machine learning models. Here is a summary table to help you choose the appropriate method:\n",
    "\n",
    "| Method Type | Method Name | Input Type | Output Type | Pros | Cons |\n",
    "| :--- | :--- | :--- | :--- | :--- | :--- |\n",
    "| **Filter** | **Chi-Squared** | Categorical | Categorical | Fast, simple | Only indicates independence, not strength |\n",
    "| | **ANOVA F-test** | Numerical | Categorical | Fast, effective for linear relationships | Relies on data distribution assumptions |\n",
    "| | **Pearson's Corr.** | Numerical | Numerical | Fast, gives direction and strength | Only captures linear relationships |\n",
    "| | **Mutual Info.** | Any | Any | Powerful, captures non-linear relationships | Needs more data, computationally slower |\n",
    "| **Wrapper** | **RFE** | Any | Any | High performance, considers feature interactions | Very computationally expensive, risk of overfitting |\n",
    "| **Embedded** | **Feature Importance** | Any | Any | Integrated into the model, efficient | Depends on the chosen model |\n",
    "\n",
    "**General Advice:**\n",
    "1. Start with **Filter** methods to get a quick overview and eliminate obviously irrelevant features.\n",
    "2. Use **Embedded** methods (like Feature Importance from RandomForest) to get a more reliable feature ranking.\n",
    "3. If performance is the top priority and you have sufficient computational resources, use **Wrapper** methods like `RFECV` to fine-tune the final feature set."
   ]
  }
 ],
 "metadata": {
  "kernelspec": {
   "display_name": "env-teaching",
   "language": "python",
   "name": "python3"
  },
  "language_info": {
   "codemirror_mode": {
    "name": "ipython",
    "version": 3
   },
   "file_extension": ".py",
   "mimetype": "text/x-python",
   "name": "python",
   "nbconvert_exporter": "python",
   "pygments_lexer": "ipython3",
   "version": "3.11.7"
  }
 },
 "nbformat": 4,
 "nbformat_minor": 4
}
