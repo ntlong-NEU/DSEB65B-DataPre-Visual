{
 "cells": [
  {
   "cell_type": "markdown",
   "id": "67a68dda",
   "metadata": {},
   "source": [
    "## Lesson 5: `.str` and `.dt` accessor"
   ]
  },
  {
   "cell_type": "code",
   "execution_count": 2,
   "id": "4b9a0d96",
   "metadata": {},
   "outputs": [],
   "source": [
    "import pandas as pd\n",
    "import numpy as np\n",
    "import re "
   ]
  },
  {
   "cell_type": "code",
   "execution_count": 4,
   "id": "62444715",
   "metadata": {},
   "outputs": [
    {
     "name": "stdout",
     "output_type": "stream",
     "text": [
      "0    Peter\n",
      "1     Paul\n",
      "2     None\n",
      "3     Mary\n",
      "4    Guido\n",
      "dtype: object\n"
     ]
    }
   ],
   "source": [
    "data = pd.Series(['peter', 'Paul', None, 'MARY', 'gUIDO'])\n",
    "# This would fail with a standard loop\n",
    "#[s.capitalize() for s in data] # -> Raises an error because of None\n",
    "# The correct way with Pandas\n",
    "print(data.str.capitalize())\n"
   ]
  },
  {
   "cell_type": "code",
   "execution_count": 5,
   "id": "efae1895",
   "metadata": {},
   "outputs": [
    {
     "name": "stdout",
     "output_type": "stream",
     "text": [
      "2.64 μs ± 92.4 ns per loop (mean ± std. dev. of 7 runs, 100,000 loops each)\n"
     ]
    }
   ],
   "source": [
    "data = pd.Series(['peter', 'Paul', \"None\", 'MARY', 'gUIDO'])\n",
    "# This would fail with a standard loop\n",
    "%timeit [s.capitalize() for s in data] # -> Raises an error because of None\n"
   ]
  },
  {
   "cell_type": "code",
   "execution_count": 6,
   "id": "54d6ddf2",
   "metadata": {},
   "outputs": [
    {
     "name": "stdout",
     "output_type": "stream",
     "text": [
      "83.4 μs ± 1.51 μs per loop (mean ± std. dev. of 7 runs, 10,000 loops each)\n"
     ]
    }
   ],
   "source": [
    "# The correct way with Pandas\n",
    "%timeit data.str.capitalize()\n"
   ]
  },
  {
   "cell_type": "code",
   "execution_count": 7,
   "id": "393883ff",
   "metadata": {},
   "outputs": [
    {
     "name": "stdout",
     "output_type": "stream",
     "text": [
      "Upper case:\n",
      " 0       HOUSE \n",
      "1      KITCHEN\n",
      "2    BATHROOM \n",
      "dtype: object\n"
     ]
    }
   ],
   "source": [
    "s = pd.Series([' house ', 'kitchen', 'BATHROOM '])\n",
    "# Case normalization\n",
    "print(\"Upper case:\\n\", s.str.upper())\n"
   ]
  },
  {
   "cell_type": "code",
   "execution_count": 8,
   "id": "42e968f4",
   "metadata": {},
   "outputs": [
    {
     "name": "stdout",
     "output_type": "stream",
     "text": [
      "\n",
      "Stripped:\n",
      " 0       house\n",
      "1     kitchen\n",
      "2    BATHROOM\n",
      "dtype: object\n"
     ]
    }
   ],
   "source": [
    "# Stripping whitespace\n",
    "print(\"\\nStripped:\\n\", s.str.strip())\n"
   ]
  },
  {
   "cell_type": "code",
   "execution_count": 9,
   "id": "ae7f0ff9",
   "metadata": {},
   "outputs": [
    {
     "name": "stdout",
     "output_type": "stream",
     "text": [
      "\n",
      "Replaced:\n",
      " 0      _house_\n",
      "1      kitchen\n",
      "2    BATHROOM_\n",
      "dtype: object\n"
     ]
    }
   ],
   "source": [
    "# Replacing strings\n",
    "print(\"\\nReplaced:\\n\", s.str.replace(' ', '_'))\n"
   ]
  },
  {
   "cell_type": "code",
   "execution_count": 10,
   "id": "89a35b1b",
   "metadata": {},
   "outputs": [
    {
     "name": "stdout",
     "output_type": "stream",
     "text": [
      "Contains 'A' (case-insensitive):\n",
      " 0     True\n",
      "1     True\n",
      "2     True\n",
      "3    False\n",
      "dtype: bool\n"
     ]
    }
   ],
   "source": [
    "s = pd.Series(['apple', 'banana', 'apricot', 'blueberry'])\n",
    "\n",
    "# Check for substring existence (case-insensitive)\n",
    "print(\"Contains 'A' (case-insensitive):\\n\", s.str.contains('A', case=False))\n"
   ]
  },
  {
   "cell_type": "code",
   "execution_count": 12,
   "id": "2729ebdf",
   "metadata": {},
   "outputs": [
    {
     "name": "stdout",
     "output_type": "stream",
     "text": [
      "\n",
      "Starts with 'a':\n",
      " 0     True\n",
      "1    False\n",
      "2     True\n",
      "3    False\n",
      "dtype: bool\n"
     ]
    }
   ],
   "source": [
    "\n",
    "# Check if string starts with...\n",
    "print(\"\\nStarts with 'a':\\n\", s.str.startswith('a'))\n"
   ]
  },
  {
   "cell_type": "code",
   "execution_count": 13,
   "id": "f6c22c0a",
   "metadata": {},
   "outputs": [
    {
     "name": "stdout",
     "output_type": "stream",
     "text": [
      "\n",
      "Ends with 't':\n",
      " 0    False\n",
      "1    False\n",
      "2     True\n",
      "3    False\n",
      "dtype: bool\n"
     ]
    }
   ],
   "source": [
    "\n",
    "# Check if string ends with...\n",
    "print(\"\\nEnds with 't':\\n\", s.str.endswith('t'))\n"
   ]
  },
  {
   "cell_type": "code",
   "execution_count": 15,
   "id": "82c78cdc",
   "metadata": {},
   "outputs": [
    {
     "data": {
      "text/html": [
       "<div>\n",
       "<style scoped>\n",
       "    .dataframe tbody tr th:only-of-type {\n",
       "        vertical-align: middle;\n",
       "    }\n",
       "\n",
       "    .dataframe tbody tr th {\n",
       "        vertical-align: top;\n",
       "    }\n",
       "\n",
       "    .dataframe thead th {\n",
       "        text-align: right;\n",
       "    }\n",
       "</style>\n",
       "<table border=\"1\" class=\"dataframe\">\n",
       "  <thead>\n",
       "    <tr style=\"text-align: right;\">\n",
       "      <th></th>\n",
       "      <th>InvoiceNo</th>\n",
       "      <th>StockCode</th>\n",
       "      <th>Description</th>\n",
       "      <th>Quantity</th>\n",
       "      <th>InvoiceDate</th>\n",
       "      <th>UnitPrice</th>\n",
       "      <th>CustomerID</th>\n",
       "      <th>Country</th>\n",
       "    </tr>\n",
       "  </thead>\n",
       "  <tbody>\n",
       "    <tr>\n",
       "      <th>0</th>\n",
       "      <td>536365</td>\n",
       "      <td>85123A</td>\n",
       "      <td>WHITE HANGING HEART T-LIGHT HOLDER</td>\n",
       "      <td>6</td>\n",
       "      <td>2010-12-01 08:26:00</td>\n",
       "      <td>2.55</td>\n",
       "      <td>17850.0</td>\n",
       "      <td>United Kingdom</td>\n",
       "    </tr>\n",
       "    <tr>\n",
       "      <th>1</th>\n",
       "      <td>536365</td>\n",
       "      <td>71053</td>\n",
       "      <td>WHITE METAL LANTERN</td>\n",
       "      <td>6</td>\n",
       "      <td>2010-12-01 08:26:00</td>\n",
       "      <td>3.39</td>\n",
       "      <td>17850.0</td>\n",
       "      <td>United Kingdom</td>\n",
       "    </tr>\n",
       "    <tr>\n",
       "      <th>2</th>\n",
       "      <td>536365</td>\n",
       "      <td>84406B</td>\n",
       "      <td>CREAM CUPID HEARTS COAT HANGER</td>\n",
       "      <td>8</td>\n",
       "      <td>2010-12-01 08:26:00</td>\n",
       "      <td>2.75</td>\n",
       "      <td>17850.0</td>\n",
       "      <td>United Kingdom</td>\n",
       "    </tr>\n",
       "    <tr>\n",
       "      <th>3</th>\n",
       "      <td>536365</td>\n",
       "      <td>84029G</td>\n",
       "      <td>KNITTED UNION FLAG HOT WATER BOTTLE</td>\n",
       "      <td>6</td>\n",
       "      <td>2010-12-01 08:26:00</td>\n",
       "      <td>3.39</td>\n",
       "      <td>17850.0</td>\n",
       "      <td>United Kingdom</td>\n",
       "    </tr>\n",
       "    <tr>\n",
       "      <th>4</th>\n",
       "      <td>536365</td>\n",
       "      <td>84029E</td>\n",
       "      <td>RED WOOLLY HOTTIE WHITE HEART.</td>\n",
       "      <td>6</td>\n",
       "      <td>2010-12-01 08:26:00</td>\n",
       "      <td>3.39</td>\n",
       "      <td>17850.0</td>\n",
       "      <td>United Kingdom</td>\n",
       "    </tr>\n",
       "  </tbody>\n",
       "</table>\n",
       "</div>"
      ],
      "text/plain": [
       "  InvoiceNo StockCode                          Description  Quantity  \\\n",
       "0    536365    85123A   WHITE HANGING HEART T-LIGHT HOLDER         6   \n",
       "1    536365     71053                  WHITE METAL LANTERN         6   \n",
       "2    536365    84406B       CREAM CUPID HEARTS COAT HANGER         8   \n",
       "3    536365    84029G  KNITTED UNION FLAG HOT WATER BOTTLE         6   \n",
       "4    536365    84029E       RED WOOLLY HOTTIE WHITE HEART.         6   \n",
       "\n",
       "          InvoiceDate  UnitPrice  CustomerID         Country  \n",
       "0 2010-12-01 08:26:00       2.55     17850.0  United Kingdom  \n",
       "1 2010-12-01 08:26:00       3.39     17850.0  United Kingdom  \n",
       "2 2010-12-01 08:26:00       2.75     17850.0  United Kingdom  \n",
       "3 2010-12-01 08:26:00       3.39     17850.0  United Kingdom  \n",
       "4 2010-12-01 08:26:00       3.39     17850.0  United Kingdom  "
      ]
     },
     "execution_count": 15,
     "metadata": {},
     "output_type": "execute_result"
    }
   ],
   "source": [
    "df_retail = pd.read_excel('Data/Online_Retail.xlsx')\n",
    "df_retail.head()"
   ]
  },
  {
   "cell_type": "code",
   "execution_count": 22,
   "id": "6d63c642",
   "metadata": {},
   "outputs": [
    {
     "name": "stderr",
     "output_type": "stream",
     "text": [
      "C:\\Users\\Admin\\AppData\\Local\\Temp\\ipykernel_3560\\1547690477.py:2: UserWarning: Boolean Series key will be reindexed to match DataFrame index.\n",
      "  df_retail[indC][df_retail['Quantity']>0]\n"
     ]
    },
    {
     "data": {
      "text/html": [
       "<div>\n",
       "<style scoped>\n",
       "    .dataframe tbody tr th:only-of-type {\n",
       "        vertical-align: middle;\n",
       "    }\n",
       "\n",
       "    .dataframe tbody tr th {\n",
       "        vertical-align: top;\n",
       "    }\n",
       "\n",
       "    .dataframe thead th {\n",
       "        text-align: right;\n",
       "    }\n",
       "</style>\n",
       "<table border=\"1\" class=\"dataframe\">\n",
       "  <thead>\n",
       "    <tr style=\"text-align: right;\">\n",
       "      <th></th>\n",
       "      <th>InvoiceNo</th>\n",
       "      <th>StockCode</th>\n",
       "      <th>Description</th>\n",
       "      <th>Quantity</th>\n",
       "      <th>InvoiceDate</th>\n",
       "      <th>UnitPrice</th>\n",
       "      <th>CustomerID</th>\n",
       "      <th>Country</th>\n",
       "    </tr>\n",
       "  </thead>\n",
       "  <tbody>\n",
       "  </tbody>\n",
       "</table>\n",
       "</div>"
      ],
      "text/plain": [
       "Empty DataFrame\n",
       "Columns: [InvoiceNo, StockCode, Description, Quantity, InvoiceDate, UnitPrice, CustomerID, Country]\n",
       "Index: []"
      ]
     },
     "execution_count": 22,
     "metadata": {},
     "output_type": "execute_result"
    }
   ],
   "source": [
    "indC = df_retail['InvoiceNo'].astype(str).str.contains('C',case=False)\n",
    "df_retail[indC][df_retail['Quantity']>0]"
   ]
  },
  {
   "cell_type": "code",
   "execution_count": 27,
   "id": "4a1fc9b6",
   "metadata": {},
   "outputs": [
    {
     "name": "stdout",
     "output_type": "stream",
     "text": [
      "0    [a, b , c]\n",
      "1     [c, d, e]\n",
      "2    [f, g , h]\n",
      "dtype: object\n"
     ]
    }
   ],
   "source": [
    "s = pd.Series(['a_b _c', 'c_d_e', 'f_g _h'])\n",
    "# Split the string, returns a Series of lists\n",
    "print(s.str.split('_'))\n"
   ]
  },
  {
   "cell_type": "code",
   "execution_count": 25,
   "id": "16360ed3",
   "metadata": {},
   "outputs": [
    {
     "name": "stdout",
     "output_type": "stream",
     "text": [
      "\n",
      "Second element:\n",
      " 0    b\n",
      "1    d\n",
      "2    g\n",
      "dtype: object\n"
     ]
    }
   ],
   "source": [
    "# Access elements of the split lists\n",
    "print(\"\\nSecond element:\\n\", s.str.split('_').str.get(1))\n"
   ]
  },
  {
   "cell_type": "code",
   "execution_count": 28,
   "id": "cf376a27",
   "metadata": {},
   "outputs": [
    {
     "name": "stdout",
     "output_type": "stream",
     "text": [
      "\n",
      "Expanded DataFrame:\n",
      "        0     1\n",
      "0    a_b    _c\n",
      "1  c_d_e  None\n",
      "2    f_g    _h\n"
     ]
    }
   ],
   "source": [
    "# Expand into a DataFrame, with each element in a column\n",
    "print(\"\\nExpanded DataFrame:\\n\", s.str.split(expand=True))\n"
   ]
  },
  {
   "cell_type": "code",
   "execution_count": 29,
   "id": "c26985cf",
   "metadata": {},
   "outputs": [],
   "source": [
    "df_lab1 = pd.DataFrame({\n",
    "    'full_name': ['  John Smith ', 'Jane Doe', '  peter jones  '],\n",
    "    'location': ['123 Main St, New York, USA', '456 Oak Ave, London, UK', '789 Pine Ln, New York, USA']\n",
    "})\n"
   ]
  },
  {
   "cell_type": "code",
   "execution_count": 31,
   "id": "9dc0eec5",
   "metadata": {},
   "outputs": [
    {
     "data": {
      "text/html": [
       "<div>\n",
       "<style scoped>\n",
       "    .dataframe tbody tr th:only-of-type {\n",
       "        vertical-align: middle;\n",
       "    }\n",
       "\n",
       "    .dataframe tbody tr th {\n",
       "        vertical-align: top;\n",
       "    }\n",
       "\n",
       "    .dataframe thead th {\n",
       "        text-align: right;\n",
       "    }\n",
       "</style>\n",
       "<table border=\"1\" class=\"dataframe\">\n",
       "  <thead>\n",
       "    <tr style=\"text-align: right;\">\n",
       "      <th></th>\n",
       "      <th>full_name</th>\n",
       "      <th>location</th>\n",
       "      <th>name_clean</th>\n",
       "    </tr>\n",
       "  </thead>\n",
       "  <tbody>\n",
       "    <tr>\n",
       "      <th>0</th>\n",
       "      <td>John Smith</td>\n",
       "      <td>123 Main St, New York, USA</td>\n",
       "      <td>John Smith</td>\n",
       "    </tr>\n",
       "    <tr>\n",
       "      <th>1</th>\n",
       "      <td>Jane Doe</td>\n",
       "      <td>456 Oak Ave, London, UK</td>\n",
       "      <td>Jane Doe</td>\n",
       "    </tr>\n",
       "    <tr>\n",
       "      <th>2</th>\n",
       "      <td>peter jones</td>\n",
       "      <td>789 Pine Ln, New York, USA</td>\n",
       "      <td>Peter Jones</td>\n",
       "    </tr>\n",
       "  </tbody>\n",
       "</table>\n",
       "</div>"
      ],
      "text/plain": [
       "         full_name                    location   name_clean\n",
       "0      John Smith   123 Main St, New York, USA   John Smith\n",
       "1         Jane Doe     456 Oak Ave, London, UK     Jane Doe\n",
       "2    peter jones    789 Pine Ln, New York, USA  Peter Jones"
      ]
     },
     "execution_count": 31,
     "metadata": {},
     "output_type": "execute_result"
    }
   ],
   "source": [
    "df_lab1['name_clean'] = df_lab1['full_name'].str.strip().str.title()\n",
    "df_lab1"
   ]
  },
  {
   "cell_type": "code",
   "execution_count": 33,
   "id": "3f3cfe24",
   "metadata": {},
   "outputs": [
    {
     "data": {
      "text/html": [
       "<div>\n",
       "<style scoped>\n",
       "    .dataframe tbody tr th:only-of-type {\n",
       "        vertical-align: middle;\n",
       "    }\n",
       "\n",
       "    .dataframe tbody tr th {\n",
       "        vertical-align: top;\n",
       "    }\n",
       "\n",
       "    .dataframe thead th {\n",
       "        text-align: right;\n",
       "    }\n",
       "</style>\n",
       "<table border=\"1\" class=\"dataframe\">\n",
       "  <thead>\n",
       "    <tr style=\"text-align: right;\">\n",
       "      <th></th>\n",
       "      <th>full_name</th>\n",
       "      <th>location</th>\n",
       "      <th>name_clean</th>\n",
       "      <th>street</th>\n",
       "      <th>city</th>\n",
       "      <th>country</th>\n",
       "    </tr>\n",
       "  </thead>\n",
       "  <tbody>\n",
       "    <tr>\n",
       "      <th>0</th>\n",
       "      <td>John Smith</td>\n",
       "      <td>123 Main St, New York, USA</td>\n",
       "      <td>John Smith</td>\n",
       "      <td>123 Main St</td>\n",
       "      <td>New York</td>\n",
       "      <td>USA</td>\n",
       "    </tr>\n",
       "    <tr>\n",
       "      <th>1</th>\n",
       "      <td>Jane Doe</td>\n",
       "      <td>456 Oak Ave, London, UK</td>\n",
       "      <td>Jane Doe</td>\n",
       "      <td>456 Oak Ave</td>\n",
       "      <td>London</td>\n",
       "      <td>UK</td>\n",
       "    </tr>\n",
       "    <tr>\n",
       "      <th>2</th>\n",
       "      <td>peter jones</td>\n",
       "      <td>789 Pine Ln, New York, USA</td>\n",
       "      <td>Peter Jones</td>\n",
       "      <td>789 Pine Ln</td>\n",
       "      <td>New York</td>\n",
       "      <td>USA</td>\n",
       "    </tr>\n",
       "  </tbody>\n",
       "</table>\n",
       "</div>"
      ],
      "text/plain": [
       "         full_name                    location   name_clean       street  \\\n",
       "0      John Smith   123 Main St, New York, USA   John Smith  123 Main St   \n",
       "1         Jane Doe     456 Oak Ave, London, UK     Jane Doe  456 Oak Ave   \n",
       "2    peter jones    789 Pine Ln, New York, USA  Peter Jones  789 Pine Ln   \n",
       "\n",
       "        city country  \n",
       "0   New York     USA  \n",
       "1     London      UK  \n",
       "2   New York     USA  "
      ]
     },
     "execution_count": 33,
     "metadata": {},
     "output_type": "execute_result"
    }
   ],
   "source": [
    "df_lab1[['street','city','country']] = df_lab1['location'].str.split(',', expand= True)\n",
    "df_lab1"
   ]
  },
  {
   "cell_type": "code",
   "execution_count": 36,
   "id": "36c8691c",
   "metadata": {},
   "outputs": [
    {
     "data": {
      "text/html": [
       "<div>\n",
       "<style scoped>\n",
       "    .dataframe tbody tr th:only-of-type {\n",
       "        vertical-align: middle;\n",
       "    }\n",
       "\n",
       "    .dataframe tbody tr th {\n",
       "        vertical-align: top;\n",
       "    }\n",
       "\n",
       "    .dataframe thead th {\n",
       "        text-align: right;\n",
       "    }\n",
       "</style>\n",
       "<table border=\"1\" class=\"dataframe\">\n",
       "  <thead>\n",
       "    <tr style=\"text-align: right;\">\n",
       "      <th></th>\n",
       "      <th>full_name</th>\n",
       "      <th>location</th>\n",
       "      <th>name_clean</th>\n",
       "      <th>street</th>\n",
       "      <th>city</th>\n",
       "      <th>country</th>\n",
       "    </tr>\n",
       "  </thead>\n",
       "  <tbody>\n",
       "    <tr>\n",
       "      <th>0</th>\n",
       "      <td>John Smith</td>\n",
       "      <td>123 Main St, New York, USA</td>\n",
       "      <td>John Smith</td>\n",
       "      <td>123 Main St</td>\n",
       "      <td>New York</td>\n",
       "      <td>USA</td>\n",
       "    </tr>\n",
       "    <tr>\n",
       "      <th>2</th>\n",
       "      <td>peter jones</td>\n",
       "      <td>789 Pine Ln, New York, USA</td>\n",
       "      <td>Peter Jones</td>\n",
       "      <td>789 Pine Ln</td>\n",
       "      <td>New York</td>\n",
       "      <td>USA</td>\n",
       "    </tr>\n",
       "  </tbody>\n",
       "</table>\n",
       "</div>"
      ],
      "text/plain": [
       "         full_name                    location   name_clean       street  \\\n",
       "0      John Smith   123 Main St, New York, USA   John Smith  123 Main St   \n",
       "2    peter jones    789 Pine Ln, New York, USA  Peter Jones  789 Pine Ln   \n",
       "\n",
       "        city country  \n",
       "0   New York     USA  \n",
       "2   New York     USA  "
      ]
     },
     "execution_count": 36,
     "metadata": {},
     "output_type": "execute_result"
    }
   ],
   "source": [
    "df_lab1[df_lab1['location'].str.contains('New York')]"
   ]
  },
  {
   "cell_type": "code",
   "execution_count": 37,
   "id": "3a5967b3",
   "metadata": {},
   "outputs": [
    {
     "name": "stdout",
     "output_type": "stream",
     "text": [
      "Starts with 'A' (case-sensitive):\n",
      " 0     True\n",
      "1    False\n",
      "2    False\n",
      "3     True\n",
      "dtype: bool\n"
     ]
    }
   ],
   "source": [
    "s = pd.Series(['Apple', 'Banana', 'apricot', 'Avocado'])\n",
    "# Without flags (case-sensitive)\n",
    "# Checks if the string STARTS with 'A'\n",
    "print(\"Starts with 'A' (case-sensitive):\\n\", s.str.match(r'A.*'))\n"
   ]
  },
  {
   "cell_type": "code",
   "execution_count": 38,
   "id": "146642c3",
   "metadata": {},
   "outputs": [
    {
     "name": "stdout",
     "output_type": "stream",
     "text": [
      "\n",
      "Starts with 'a' (case-insensitive):\n",
      " 0     True\n",
      "1    False\n",
      "2     True\n",
      "3     True\n",
      "dtype: bool\n"
     ]
    }
   ],
   "source": [
    "# With flags (case-insensitive)\n",
    "# Checks if the string STARTS with 'a' or 'A'\n",
    "print(\"\\nStarts with 'a' (case-insensitive):\\n\", s.str.match(r'a.*',flags=re.IGNORECASE))\n"
   ]
  },
  {
   "cell_type": "code",
   "execution_count": 39,
   "id": "75045c64",
   "metadata": {},
   "outputs": [
    {
     "name": "stderr",
     "output_type": "stream",
     "text": [
      "C:\\Users\\Admin\\AppData\\Local\\Temp\\ipykernel_3560\\754281172.py:2: UserWarning: Boolean Series key will be reindexed to match DataFrame index.\n",
      "  df_retail[indC][df_retail['Quantity']>0]\n"
     ]
    },
    {
     "data": {
      "text/html": [
       "<div>\n",
       "<style scoped>\n",
       "    .dataframe tbody tr th:only-of-type {\n",
       "        vertical-align: middle;\n",
       "    }\n",
       "\n",
       "    .dataframe tbody tr th {\n",
       "        vertical-align: top;\n",
       "    }\n",
       "\n",
       "    .dataframe thead th {\n",
       "        text-align: right;\n",
       "    }\n",
       "</style>\n",
       "<table border=\"1\" class=\"dataframe\">\n",
       "  <thead>\n",
       "    <tr style=\"text-align: right;\">\n",
       "      <th></th>\n",
       "      <th>InvoiceNo</th>\n",
       "      <th>StockCode</th>\n",
       "      <th>Description</th>\n",
       "      <th>Quantity</th>\n",
       "      <th>InvoiceDate</th>\n",
       "      <th>UnitPrice</th>\n",
       "      <th>CustomerID</th>\n",
       "      <th>Country</th>\n",
       "    </tr>\n",
       "  </thead>\n",
       "  <tbody>\n",
       "  </tbody>\n",
       "</table>\n",
       "</div>"
      ],
      "text/plain": [
       "Empty DataFrame\n",
       "Columns: [InvoiceNo, StockCode, Description, Quantity, InvoiceDate, UnitPrice, CustomerID, Country]\n",
       "Index: []"
      ]
     },
     "execution_count": 39,
     "metadata": {},
     "output_type": "execute_result"
    }
   ],
   "source": [
    "indC = df_retail['InvoiceNo'].astype(str).str.contains('C',case=False, flags=re.I)\n",
    "df_retail[indC][df_retail['Quantity']>0]"
   ]
  },
  {
   "cell_type": "code",
   "execution_count": 40,
   "id": "5525f166",
   "metadata": {},
   "outputs": [
    {
     "name": "stdout",
     "output_type": "stream",
     "text": [
      "Extract number after 'ID: ':\n",
      "      0\n",
      "0  123\n",
      "1  NaN\n",
      "2  NaN\n",
      "\n",
      "Extract number after 'id: ' (case-insensitive):\n",
      "      0\n",
      "0  123\n",
      "1  456\n",
      "2  NaN\n"
     ]
    }
   ],
   "source": [
    "s = pd.Series(['ID: A123', 'id: b456', 'No ID here'])\n",
    "# Without flags (case-sensitive) - will miss 'id: b456'\n",
    "print(\"Extract number after 'ID: ':\\n\", s.str.extract(r'ID: [A-Z](\\d+)'))\n",
    "# With flags (case-insensitive)\n",
    "print(\"\\nExtract number after 'id: ' (case-insensitive):\\n\", s.str.extract(r'id: [a-z](\\d+)', flags=re.I))\n"
   ]
  },
  {
   "cell_type": "code",
   "execution_count": 44,
   "id": "a89f3711",
   "metadata": {},
   "outputs": [
    {
     "name": "stdout",
     "output_type": "stream",
     "text": [
      "Find all lowercase hashtags:\n",
      " 0    [#sale, #promo]\n",
      "1             [#new]\n",
      "2        [#shipping]\n",
      "dtype: object\n"
     ]
    }
   ],
   "source": [
    "s = pd.Series(['#sale #promo', '#Sale #new', '#shipping'])\n",
    "# Without flags (case-sensitive) - finds only lowercase hashtags\n",
    "print(\"Find all lowercase hashtags:\\n\", s.str.findall(r'#[a-z]+'))\n"
   ]
  },
  {
   "cell_type": "code",
   "execution_count": 47,
   "id": "843f264f",
   "metadata": {},
   "outputs": [
    {
     "data": {
      "text/html": [
       "<div>\n",
       "<style scoped>\n",
       "    .dataframe tbody tr th:only-of-type {\n",
       "        vertical-align: middle;\n",
       "    }\n",
       "\n",
       "    .dataframe tbody tr th {\n",
       "        vertical-align: top;\n",
       "    }\n",
       "\n",
       "    .dataframe thead th {\n",
       "        text-align: right;\n",
       "    }\n",
       "</style>\n",
       "<table border=\"1\" class=\"dataframe\">\n",
       "  <thead>\n",
       "    <tr style=\"text-align: right;\">\n",
       "      <th></th>\n",
       "      <th>0</th>\n",
       "    </tr>\n",
       "  </thead>\n",
       "  <tbody>\n",
       "    <tr>\n",
       "      <th>0</th>\n",
       "      <td>sale</td>\n",
       "    </tr>\n",
       "    <tr>\n",
       "      <th>1</th>\n",
       "      <td>new</td>\n",
       "    </tr>\n",
       "    <tr>\n",
       "      <th>2</th>\n",
       "      <td>shipping</td>\n",
       "    </tr>\n",
       "  </tbody>\n",
       "</table>\n",
       "</div>"
      ],
      "text/plain": [
       "          0\n",
       "0      sale\n",
       "1       new\n",
       "2  shipping"
      ]
     },
     "execution_count": 47,
     "metadata": {},
     "output_type": "execute_result"
    }
   ],
   "source": [
    "s.str.extract(r'#([a-z]+)')"
   ]
  },
  {
   "cell_type": "code",
   "execution_count": 48,
   "id": "dddbf6a8",
   "metadata": {},
   "outputs": [
    {
     "name": "stdout",
     "output_type": "stream",
     "text": [
      "\n",
      "Find all hashtags (case-insensitive):\n",
      " 0    [sale, promo]\n",
      "1      [Sale, new]\n",
      "2       [shipping]\n",
      "dtype: object\n"
     ]
    }
   ],
   "source": [
    "\n",
    "# With flags (case-insensitive) - finds all hashtags\n",
    "print(\"\\nFind all hashtags (case-insensitive):\\n\", s.str.findall(r'#([a-z]+)', flags=re.IGNORECASE))\n"
   ]
  },
  {
   "cell_type": "code",
   "execution_count": 50,
   "id": "8c2853cc",
   "metadata": {},
   "outputs": [],
   "source": [
    "df_comments = pd.DataFrame({\n",
    "        'comments': ['REF-1234: Great product!',\n",
    "                     'Complaint: The item (REF-5678) was broken.',\n",
    "        'REF-9101, love it! #awesome #greatbuy',\n",
    "        'This is not a valid comment',\n",
    "        'complaint: another issue with REF-1122']})\n"
   ]
  },
  {
   "cell_type": "markdown",
   "id": "9a996879",
   "metadata": {},
   "source": [
    "### Tasks:\n",
    "1. Validate Comments (.str.match()): Create a boolean Series is_valid that is True for comments that start with either \"REF\" or \"Complaint\". Use a case-insensitive flag. (Hint: .r'(REF|Complaint).*')\n"
   ]
  },
  {
   "cell_type": "code",
   "execution_count": 53,
   "id": "ba3d16eb",
   "metadata": {},
   "outputs": [
    {
     "data": {
      "text/html": [
       "<div>\n",
       "<style scoped>\n",
       "    .dataframe tbody tr th:only-of-type {\n",
       "        vertical-align: middle;\n",
       "    }\n",
       "\n",
       "    .dataframe tbody tr th {\n",
       "        vertical-align: top;\n",
       "    }\n",
       "\n",
       "    .dataframe thead th {\n",
       "        text-align: right;\n",
       "    }\n",
       "</style>\n",
       "<table border=\"1\" class=\"dataframe\">\n",
       "  <thead>\n",
       "    <tr style=\"text-align: right;\">\n",
       "      <th></th>\n",
       "      <th>comments</th>\n",
       "      <th>is_valid</th>\n",
       "    </tr>\n",
       "  </thead>\n",
       "  <tbody>\n",
       "    <tr>\n",
       "      <th>0</th>\n",
       "      <td>REF-1234: Great product!</td>\n",
       "      <td>True</td>\n",
       "    </tr>\n",
       "    <tr>\n",
       "      <th>1</th>\n",
       "      <td>Complaint: The item (REF-5678) was broken.</td>\n",
       "      <td>True</td>\n",
       "    </tr>\n",
       "    <tr>\n",
       "      <th>2</th>\n",
       "      <td>REF-9101, love it! #awesome #greatbuy</td>\n",
       "      <td>True</td>\n",
       "    </tr>\n",
       "    <tr>\n",
       "      <th>3</th>\n",
       "      <td>This is not a valid comment</td>\n",
       "      <td>False</td>\n",
       "    </tr>\n",
       "    <tr>\n",
       "      <th>4</th>\n",
       "      <td>complaint: another issue with REF-1122</td>\n",
       "      <td>True</td>\n",
       "    </tr>\n",
       "  </tbody>\n",
       "</table>\n",
       "</div>"
      ],
      "text/plain": [
       "                                     comments  is_valid\n",
       "0                    REF-1234: Great product!      True\n",
       "1  Complaint: The item (REF-5678) was broken.      True\n",
       "2       REF-9101, love it! #awesome #greatbuy      True\n",
       "3                 This is not a valid comment     False\n",
       "4      complaint: another issue with REF-1122      True"
      ]
     },
     "execution_count": 53,
     "metadata": {},
     "output_type": "execute_result"
    }
   ],
   "source": [
    "df_comments['is_valid'] = df_comments['comments'].str.match(r'(REF|Complaint).*',flags=re.I)\n",
    "df_comments"
   ]
  },
  {
   "cell_type": "markdown",
   "id": "146e099f",
   "metadata": {},
   "source": [
    "2. Categorize Complaints (.str.contains()): Using the original df_comments, create a new DataFrame complaints_df that contains only comments that include the word \"complaint\" (case-insensitive).\n"
   ]
  },
  {
   "cell_type": "code",
   "execution_count": null,
   "id": "22608448",
   "metadata": {},
   "outputs": [
    {
     "data": {
      "text/html": [
       "<div>\n",
       "<style scoped>\n",
       "    .dataframe tbody tr th:only-of-type {\n",
       "        vertical-align: middle;\n",
       "    }\n",
       "\n",
       "    .dataframe tbody tr th {\n",
       "        vertical-align: top;\n",
       "    }\n",
       "\n",
       "    .dataframe thead th {\n",
       "        text-align: right;\n",
       "    }\n",
       "</style>\n",
       "<table border=\"1\" class=\"dataframe\">\n",
       "  <thead>\n",
       "    <tr style=\"text-align: right;\">\n",
       "      <th></th>\n",
       "      <th>comments</th>\n",
       "      <th>is_valid</th>\n",
       "    </tr>\n",
       "  </thead>\n",
       "  <tbody>\n",
       "    <tr>\n",
       "      <th>1</th>\n",
       "      <td>Complaint: The item (REF-5678) was broken.</td>\n",
       "      <td>True</td>\n",
       "    </tr>\n",
       "    <tr>\n",
       "      <th>4</th>\n",
       "      <td>complaint: another issue with REF-1122</td>\n",
       "      <td>True</td>\n",
       "    </tr>\n",
       "  </tbody>\n",
       "</table>\n",
       "</div>"
      ],
      "text/plain": [
       "                                     comments  is_valid\n",
       "1  Complaint: The item (REF-5678) was broken.      True\n",
       "4      complaint: another issue with REF-1122      True"
      ]
     },
     "execution_count": 55,
     "metadata": {},
     "output_type": "execute_result"
    }
   ],
   "source": [
    "df_comments[df_comments['comments'].str.contains(r'complaint', flags=re.I)]"
   ]
  },
  {
   "cell_type": "markdown",
   "id": "f8e0fd9d",
   "metadata": {},
   "source": [
    "3. Extract Reference Numbers (.str.extract()): Create a new column ref_id in the original DataFrame that extracts only the digits from the reference number (e.g., '1234', '5678').\n"
   ]
  },
  {
   "cell_type": "code",
   "execution_count": null,
   "id": "8577ffcc",
   "metadata": {},
   "outputs": [
    {
     "data": {
      "text/html": [
       "<div>\n",
       "<style scoped>\n",
       "    .dataframe tbody tr th:only-of-type {\n",
       "        vertical-align: middle;\n",
       "    }\n",
       "\n",
       "    .dataframe tbody tr th {\n",
       "        vertical-align: top;\n",
       "    }\n",
       "\n",
       "    .dataframe thead th {\n",
       "        text-align: right;\n",
       "    }\n",
       "</style>\n",
       "<table border=\"1\" class=\"dataframe\">\n",
       "  <thead>\n",
       "    <tr style=\"text-align: right;\">\n",
       "      <th></th>\n",
       "      <th>comments</th>\n",
       "      <th>is_valid</th>\n",
       "      <th>ref_id</th>\n",
       "      <th>hashtags</th>\n",
       "    </tr>\n",
       "  </thead>\n",
       "  <tbody>\n",
       "    <tr>\n",
       "      <th>0</th>\n",
       "      <td>REF-1234: Great product!</td>\n",
       "      <td>True</td>\n",
       "      <td>1234</td>\n",
       "      <td>[]</td>\n",
       "    </tr>\n",
       "    <tr>\n",
       "      <th>1</th>\n",
       "      <td>Complaint: The item (REF-5678) was broken.</td>\n",
       "      <td>True</td>\n",
       "      <td>5678</td>\n",
       "      <td>[]</td>\n",
       "    </tr>\n",
       "    <tr>\n",
       "      <th>2</th>\n",
       "      <td>REF-9101, love it! #awesome #greatbuy</td>\n",
       "      <td>True</td>\n",
       "      <td>9101</td>\n",
       "      <td>[#awesome, #greatbuy]</td>\n",
       "    </tr>\n",
       "    <tr>\n",
       "      <th>3</th>\n",
       "      <td>This is not a valid comment</td>\n",
       "      <td>False</td>\n",
       "      <td>NaN</td>\n",
       "      <td>[]</td>\n",
       "    </tr>\n",
       "    <tr>\n",
       "      <th>4</th>\n",
       "      <td>complaint: another issue with REF-1122</td>\n",
       "      <td>True</td>\n",
       "      <td>1122</td>\n",
       "      <td>[]</td>\n",
       "    </tr>\n",
       "  </tbody>\n",
       "</table>\n",
       "</div>"
      ],
      "text/plain": [
       "                                     comments  is_valid ref_id  \\\n",
       "0                    REF-1234: Great product!      True   1234   \n",
       "1  Complaint: The item (REF-5678) was broken.      True   5678   \n",
       "2       REF-9101, love it! #awesome #greatbuy      True   9101   \n",
       "3                 This is not a valid comment     False    NaN   \n",
       "4      complaint: another issue with REF-1122      True   1122   \n",
       "\n",
       "                hashtags  \n",
       "0                     []  \n",
       "1                     []  \n",
       "2  [#awesome, #greatbuy]  \n",
       "3                     []  \n",
       "4                     []  "
      ]
     },
     "execution_count": 62,
     "metadata": {},
     "output_type": "execute_result"
    }
   ],
   "source": [
    "df_comments['ref_id'] = df_comments['comments'].str.extract(r'REF-(\\d+)')\n",
    "df_comments"
   ]
  },
  {
   "cell_type": "markdown",
   "id": "32b496dd",
   "metadata": {},
   "source": [
    "4. Extract Hashtags (.str.findall()): Create a new column hashtags that finds all hashtags (words starting with #) in each comment."
   ]
  },
  {
   "cell_type": "code",
   "execution_count": 64,
   "id": "24879286",
   "metadata": {},
   "outputs": [
    {
     "data": {
      "text/html": [
       "<div>\n",
       "<style scoped>\n",
       "    .dataframe tbody tr th:only-of-type {\n",
       "        vertical-align: middle;\n",
       "    }\n",
       "\n",
       "    .dataframe tbody tr th {\n",
       "        vertical-align: top;\n",
       "    }\n",
       "\n",
       "    .dataframe thead th {\n",
       "        text-align: right;\n",
       "    }\n",
       "</style>\n",
       "<table border=\"1\" class=\"dataframe\">\n",
       "  <thead>\n",
       "    <tr style=\"text-align: right;\">\n",
       "      <th></th>\n",
       "      <th>comments</th>\n",
       "      <th>is_valid</th>\n",
       "      <th>ref_id</th>\n",
       "      <th>hashtags</th>\n",
       "    </tr>\n",
       "  </thead>\n",
       "  <tbody>\n",
       "    <tr>\n",
       "      <th>0</th>\n",
       "      <td>REF-1234: Great product!</td>\n",
       "      <td>True</td>\n",
       "      <td>1234</td>\n",
       "      <td>[]</td>\n",
       "    </tr>\n",
       "    <tr>\n",
       "      <th>1</th>\n",
       "      <td>Complaint: The item (REF-5678) was broken.</td>\n",
       "      <td>True</td>\n",
       "      <td>5678</td>\n",
       "      <td>[]</td>\n",
       "    </tr>\n",
       "    <tr>\n",
       "      <th>2</th>\n",
       "      <td>REF-9101, love it! #awesome #greatbuy</td>\n",
       "      <td>True</td>\n",
       "      <td>9101</td>\n",
       "      <td>[#awesome, #greatbuy]</td>\n",
       "    </tr>\n",
       "    <tr>\n",
       "      <th>3</th>\n",
       "      <td>This is not a valid comment</td>\n",
       "      <td>False</td>\n",
       "      <td>NaN</td>\n",
       "      <td>[]</td>\n",
       "    </tr>\n",
       "    <tr>\n",
       "      <th>4</th>\n",
       "      <td>complaint: another issue with REF-1122</td>\n",
       "      <td>True</td>\n",
       "      <td>1122</td>\n",
       "      <td>[]</td>\n",
       "    </tr>\n",
       "  </tbody>\n",
       "</table>\n",
       "</div>"
      ],
      "text/plain": [
       "                                     comments  is_valid ref_id  \\\n",
       "0                    REF-1234: Great product!      True   1234   \n",
       "1  Complaint: The item (REF-5678) was broken.      True   5678   \n",
       "2       REF-9101, love it! #awesome #greatbuy      True   9101   \n",
       "3                 This is not a valid comment     False    NaN   \n",
       "4      complaint: another issue with REF-1122      True   1122   \n",
       "\n",
       "                hashtags  \n",
       "0                     []  \n",
       "1                     []  \n",
       "2  [#awesome, #greatbuy]  \n",
       "3                     []  \n",
       "4                     []  "
      ]
     },
     "execution_count": 64,
     "metadata": {},
     "output_type": "execute_result"
    }
   ],
   "source": [
    "df_comments['hashtags'] = df_comments['comments'].str.findall(r'#[\\w-]+')\n",
    "df_comments"
   ]
  },
  {
   "cell_type": "code",
   "execution_count": 65,
   "id": "3ff876c9",
   "metadata": {},
   "outputs": [
    {
     "name": "stdout",
     "output_type": "stream",
     "text": [
      "DatetimeIndex(['2023-01-01', '2023-01-02', '2023-01-05'], dtype='datetime64[ns]', freq=None)\n"
     ]
    }
   ],
   "source": [
    "# Convert strings to datetime, Pandas can often infer the format\n",
    "dates_str = ['2023-01-01', '2023/01/02', '05-Jan-2023']\n",
    "dates = pd.to_datetime(dates_str,format=\"mixed\")\n",
    "print(dates)\n"
   ]
  },
  {
   "cell_type": "code",
   "execution_count": 67,
   "id": "c795e9ed",
   "metadata": {},
   "outputs": [
    {
     "data": {
      "text/plain": [
       "Index([2023, 2023, 2023], dtype='int32')"
      ]
     },
     "execution_count": 67,
     "metadata": {},
     "output_type": "execute_result"
    }
   ],
   "source": [
    "dates.year"
   ]
  },
  {
   "cell_type": "code",
   "execution_count": 68,
   "id": "bfe87f0a",
   "metadata": {},
   "outputs": [
    {
     "data": {
      "text/plain": [
       "Index([1, 1, 1], dtype='int32')"
      ]
     },
     "execution_count": 68,
     "metadata": {},
     "output_type": "execute_result"
    }
   ],
   "source": [
    "dates.month"
   ]
  },
  {
   "cell_type": "code",
   "execution_count": 69,
   "id": "8da96ea2",
   "metadata": {},
   "outputs": [
    {
     "data": {
      "text/plain": [
       "Index([1, 2, 5], dtype='int32')"
      ]
     },
     "execution_count": 69,
     "metadata": {},
     "output_type": "execute_result"
    }
   ],
   "source": [
    "dates.day"
   ]
  },
  {
   "cell_type": "code",
   "execution_count": 70,
   "id": "60fa46c5",
   "metadata": {},
   "outputs": [
    {
     "data": {
      "text/plain": [
       "Index(['January', 'January', 'January'], dtype='object')"
      ]
     },
     "execution_count": 70,
     "metadata": {},
     "output_type": "execute_result"
    }
   ],
   "source": [
    "dates.month_name()"
   ]
  },
  {
   "cell_type": "code",
   "execution_count": 71,
   "id": "aca4352f",
   "metadata": {},
   "outputs": [
    {
     "data": {
      "text/plain": [
       "Index(['Sunday', 'Monday', 'Thursday'], dtype='object')"
      ]
     },
     "execution_count": 71,
     "metadata": {},
     "output_type": "execute_result"
    }
   ],
   "source": [
    "dates.day_name()"
   ]
  },
  {
   "cell_type": "code",
   "execution_count": 73,
   "id": "df30d764",
   "metadata": {},
   "outputs": [
    {
     "data": {
      "text/plain": [
       "Index([1, 1, 1], dtype='int32')"
      ]
     },
     "execution_count": 73,
     "metadata": {},
     "output_type": "execute_result"
    }
   ],
   "source": [
    "dates.quarter"
   ]
  },
  {
   "cell_type": "code",
   "execution_count": 75,
   "id": "2bbcea47",
   "metadata": {},
   "outputs": [
    {
     "name": "stdout",
     "output_type": "stream",
     "text": [
      "DatetimeIndex(['2023-01-01', 'NaT'], dtype='datetime64[ns]', freq=None)\n"
     ]
    }
   ],
   "source": [
    "# Handle errors: coerce invalid values to NaT (Not a Time)\n",
    "bad_dates = ['2023-01-01', 'not a date']\n",
    "# The errors='coerce' parameter will turn any unparseable date into NaT (Not a Time),\n",
    "# which is Pandas' equivalent of NaN for datetime objects. This prevents the code from crashing.\n",
    "print(pd.to_datetime(bad_dates, errors='coerce'))\n"
   ]
  },
  {
   "cell_type": "code",
   "execution_count": 76,
   "id": "5dc13cf7",
   "metadata": {},
   "outputs": [
    {
     "name": "stdout",
     "output_type": "stream",
     "text": [
      "   sale_date  sales\n",
      "0 2023-01-15    100\n",
      "1 2023-01-16    150\n",
      "--- Before setting index ---\n",
      "<class 'pandas.core.frame.DataFrame'>\n",
      "RangeIndex: 2 entries, 0 to 1\n",
      "Data columns (total 2 columns):\n",
      " #   Column     Non-Null Count  Dtype         \n",
      "---  ------     --------------  -----         \n",
      " 0   sale_date  2 non-null      datetime64[ns]\n",
      " 1   sales      2 non-null      int64         \n",
      "dtypes: datetime64[ns](1), int64(1)\n",
      "memory usage: 164.0 bytes\n",
      "None\n"
     ]
    }
   ],
   "source": [
    "df = pd.DataFrame({\n",
    "    'sale_date': pd.to_datetime(['2023-01-15', '2023-01-16']),\n",
    "    'sales': [100, 150]\n",
    "})\n",
    "print(df)\n",
    "print(\"--- Before setting index ---\")\n",
    "print(df.info())\n"
   ]
  },
  {
   "cell_type": "code",
   "execution_count": 79,
   "id": "af9e3f2f",
   "metadata": {},
   "outputs": [
    {
     "name": "stdout",
     "output_type": "stream",
     "text": [
      "\n",
      "--- After setting index ---\n",
      "<class 'pandas.core.frame.DataFrame'>\n",
      "DatetimeIndex: 2 entries, 2023-01-15 to 2023-01-16\n",
      "Data columns (total 1 columns):\n",
      " #   Column  Non-Null Count  Dtype\n",
      "---  ------  --------------  -----\n",
      " 0   sales   2 non-null      int64\n",
      "dtypes: int64(1)\n",
      "memory usage: 32.0 bytes\n",
      "None\n",
      "\n",
      "Index Type: <class 'pandas.core.indexes.datetimes.DatetimeIndex'>\n"
     ]
    }
   ],
   "source": [
    "# Set the 'sale_date' column as the index\n",
    "df.set_index('sale_date', inplace=True)\n",
    "print(\"\\n--- After setting index ---\")\n",
    "print(df.info())\n",
    "print(\"\\nIndex Type:\", type(df.index))\n"
   ]
  },
  {
   "cell_type": "code",
   "execution_count": 80,
   "id": "58c50017",
   "metadata": {},
   "outputs": [
    {
     "data": {
      "text/html": [
       "<div>\n",
       "<style scoped>\n",
       "    .dataframe tbody tr th:only-of-type {\n",
       "        vertical-align: middle;\n",
       "    }\n",
       "\n",
       "    .dataframe tbody tr th {\n",
       "        vertical-align: top;\n",
       "    }\n",
       "\n",
       "    .dataframe thead th {\n",
       "        text-align: right;\n",
       "    }\n",
       "</style>\n",
       "<table border=\"1\" class=\"dataframe\">\n",
       "  <thead>\n",
       "    <tr style=\"text-align: right;\">\n",
       "      <th></th>\n",
       "      <th>sales</th>\n",
       "    </tr>\n",
       "    <tr>\n",
       "      <th>sale_date</th>\n",
       "      <th></th>\n",
       "    </tr>\n",
       "  </thead>\n",
       "  <tbody>\n",
       "    <tr>\n",
       "      <th>2023-01-15</th>\n",
       "      <td>100</td>\n",
       "    </tr>\n",
       "    <tr>\n",
       "      <th>2023-01-16</th>\n",
       "      <td>150</td>\n",
       "    </tr>\n",
       "  </tbody>\n",
       "</table>\n",
       "</div>"
      ],
      "text/plain": [
       "            sales\n",
       "sale_date        \n",
       "2023-01-15    100\n",
       "2023-01-16    150"
      ]
     },
     "execution_count": 80,
     "metadata": {},
     "output_type": "execute_result"
    }
   ],
   "source": [
    "df"
   ]
  },
  {
   "cell_type": "code",
   "execution_count": 82,
   "id": "234f5eb6",
   "metadata": {},
   "outputs": [
    {
     "data": {
      "text/plain": [
       "Index([2023, 2023], dtype='int32', name='sale_date')"
      ]
     },
     "execution_count": 82,
     "metadata": {},
     "output_type": "execute_result"
    }
   ],
   "source": [
    "df.index.year"
   ]
  },
  {
   "cell_type": "code",
   "execution_count": 84,
   "id": "a6fc4877",
   "metadata": {},
   "outputs": [
    {
     "data": {
      "text/plain": [
       "Index(['Sunday', 'Monday'], dtype='object', name='sale_date')"
      ]
     },
     "execution_count": 84,
     "metadata": {},
     "output_type": "execute_result"
    }
   ],
   "source": [
    "df.index.day_name()"
   ]
  },
  {
   "cell_type": "code",
   "execution_count": 85,
   "id": "0ce8d575",
   "metadata": {},
   "outputs": [
    {
     "data": {
      "text/html": [
       "<div>\n",
       "<style scoped>\n",
       "    .dataframe tbody tr th:only-of-type {\n",
       "        vertical-align: middle;\n",
       "    }\n",
       "\n",
       "    .dataframe tbody tr th {\n",
       "        vertical-align: top;\n",
       "    }\n",
       "\n",
       "    .dataframe thead th {\n",
       "        text-align: right;\n",
       "    }\n",
       "</style>\n",
       "<table border=\"1\" class=\"dataframe\">\n",
       "  <thead>\n",
       "    <tr style=\"text-align: right;\">\n",
       "      <th></th>\n",
       "      <th>sale_date</th>\n",
       "      <th>sales</th>\n",
       "    </tr>\n",
       "  </thead>\n",
       "  <tbody>\n",
       "    <tr>\n",
       "      <th>0</th>\n",
       "      <td>2023-01-15</td>\n",
       "      <td>100</td>\n",
       "    </tr>\n",
       "    <tr>\n",
       "      <th>1</th>\n",
       "      <td>2023-01-16</td>\n",
       "      <td>150</td>\n",
       "    </tr>\n",
       "  </tbody>\n",
       "</table>\n",
       "</div>"
      ],
      "text/plain": [
       "   sale_date  sales\n",
       "0 2023-01-15    100\n",
       "1 2023-01-16    150"
      ]
     },
     "execution_count": 85,
     "metadata": {},
     "output_type": "execute_result"
    }
   ],
   "source": [
    "df = pd.DataFrame({\n",
    "    'sale_date': pd.to_datetime(['2023-01-15', '2023-01-16']),\n",
    "    'sales': [100, 150]\n",
    "})\n",
    "df "
   ]
  },
  {
   "cell_type": "code",
   "execution_count": 86,
   "id": "3e949db9",
   "metadata": {},
   "outputs": [
    {
     "data": {
      "text/plain": [
       "0    Sunday\n",
       "1    Monday\n",
       "Name: sale_date, dtype: object"
      ]
     },
     "execution_count": 86,
     "metadata": {},
     "output_type": "execute_result"
    }
   ],
   "source": [
    "df['sale_date'].dt.day_name()"
   ]
  },
  {
   "cell_type": "code",
   "execution_count": 87,
   "id": "42ab1ff6",
   "metadata": {},
   "outputs": [
    {
     "data": {
      "text/plain": [
       "['Sunday', 'Monday']"
      ]
     },
     "execution_count": 87,
     "metadata": {},
     "output_type": "execute_result"
    }
   ],
   "source": [
    "[time.day_name() for time in df['sale_date']]"
   ]
  },
  {
   "cell_type": "code",
   "execution_count": 102,
   "id": "17e4e6c7",
   "metadata": {},
   "outputs": [
    {
     "data": {
      "text/plain": [
       "pandas.core.series.Series"
      ]
     },
     "execution_count": 102,
     "metadata": {},
     "output_type": "execute_result"
    }
   ],
   "source": [
    "ts = pd.Series(np.random.randn(1000),\n",
    "        index=pd.date_range('1/1/2020', periods=1000))\n",
    "type(ts)"
   ]
  },
  {
   "cell_type": "code",
   "execution_count": 90,
   "id": "a8a40030",
   "metadata": {},
   "outputs": [
    {
     "data": {
      "text/plain": [
       "DatetimeIndex(['2020-01-01', '2020-01-02', '2020-01-03', '2020-01-04',\n",
       "               '2020-01-05', '2020-01-06', '2020-01-07', '2020-01-08',\n",
       "               '2020-01-09', '2020-01-10',\n",
       "               ...\n",
       "               '2022-09-17', '2022-09-18', '2022-09-19', '2022-09-20',\n",
       "               '2022-09-21', '2022-09-22', '2022-09-23', '2022-09-24',\n",
       "               '2022-09-25', '2022-09-26'],\n",
       "              dtype='datetime64[ns]', length=1000, freq='D')"
      ]
     },
     "execution_count": 90,
     "metadata": {},
     "output_type": "execute_result"
    }
   ],
   "source": [
    "ts.index "
   ]
  },
  {
   "cell_type": "code",
   "execution_count": 91,
   "id": "06cee1a3",
   "metadata": {},
   "outputs": [
    {
     "name": "stdout",
     "output_type": "stream",
     "text": [
      "2021-01-01    1.432862\n",
      "2021-01-02    1.378336\n",
      "2021-01-03    0.922432\n",
      "2021-01-04   -0.187975\n",
      "2021-01-05    4.823572\n",
      "Freq: D, dtype: float64\n"
     ]
    }
   ],
   "source": [
    "# Select a year\n",
    "print(ts['2021'].head())\n"
   ]
  },
  {
   "cell_type": "code",
   "execution_count": 92,
   "id": "82151f91",
   "metadata": {},
   "outputs": [
    {
     "name": "stdout",
     "output_type": "stream",
     "text": [
      "2021-05-01    0.192588\n",
      "2021-05-02    0.920403\n",
      "2021-05-03   -0.303804\n",
      "2021-05-04   -1.829256\n",
      "2021-05-05    0.260685\n",
      "Freq: D, dtype: float64\n"
     ]
    }
   ],
   "source": [
    "# Select a month\n",
    "print(ts['2021-05'].head()) \n"
   ]
  },
  {
   "cell_type": "code",
   "execution_count": 93,
   "id": "faac43dc",
   "metadata": {},
   "outputs": [
    {
     "data": {
      "text/plain": [
       "2022-01-01   -0.114034\n",
       "2022-01-02    1.267016\n",
       "2022-01-03   -1.508006\n",
       "2022-01-04   -1.414227\n",
       "2022-01-05   -0.267457\n",
       "Freq: D, dtype: float64"
      ]
     },
     "execution_count": 93,
     "metadata": {},
     "output_type": "execute_result"
    }
   ],
   "source": [
    "# Slice a date range\n",
    "ts['2022-01-01':'2022-01-31'].head()"
   ]
  },
  {
   "cell_type": "code",
   "execution_count": 94,
   "id": "e72ebfc0",
   "metadata": {},
   "outputs": [
    {
     "data": {
      "text/plain": [
       "2020-01-01   -0.768303\n",
       "2020-01-02   -0.428605\n",
       "2020-01-03    0.299062\n",
       "2020-01-04    0.447997\n",
       "2020-01-05   -1.540372\n",
       "Freq: D, dtype: float64"
      ]
     },
     "execution_count": 94,
     "metadata": {},
     "output_type": "execute_result"
    }
   ],
   "source": [
    "ts.head()"
   ]
  },
  {
   "cell_type": "code",
   "execution_count": 103,
   "id": "37706c68",
   "metadata": {},
   "outputs": [
    {
     "data": {
      "text/plain": [
       "2021-04-01   -0.485019\n",
       "2021-04-02   -0.488265\n",
       "2021-04-03    1.420874\n",
       "2021-04-04   -0.254402\n",
       "2021-04-05    0.468587\n",
       "                ...   \n",
       "2021-06-26   -1.431186\n",
       "2021-06-27    0.891126\n",
       "2021-06-28   -0.017473\n",
       "2021-06-29    1.218769\n",
       "2021-06-30   -2.300761\n",
       "Length: 91, dtype: float64"
      ]
     },
     "execution_count": 103,
     "metadata": {},
     "output_type": "execute_result"
    }
   ],
   "source": [
    "ts[ts.index.quarter==2]['2021']"
   ]
  },
  {
   "cell_type": "code",
   "execution_count": 105,
   "id": "85ae9aff",
   "metadata": {},
   "outputs": [
    {
     "data": {
      "text/html": [
       "<div>\n",
       "<style scoped>\n",
       "    .dataframe tbody tr th:only-of-type {\n",
       "        vertical-align: middle;\n",
       "    }\n",
       "\n",
       "    .dataframe tbody tr th {\n",
       "        vertical-align: top;\n",
       "    }\n",
       "\n",
       "    .dataframe thead th {\n",
       "        text-align: right;\n",
       "    }\n",
       "</style>\n",
       "<table border=\"1\" class=\"dataframe\">\n",
       "  <thead>\n",
       "    <tr style=\"text-align: right;\">\n",
       "      <th></th>\n",
       "      <th>ts</th>\n",
       "      <th>day_name</th>\n",
       "    </tr>\n",
       "  </thead>\n",
       "  <tbody>\n",
       "    <tr>\n",
       "      <th>2020-01-01</th>\n",
       "      <td>1.067809</td>\n",
       "      <td>Wednesday</td>\n",
       "    </tr>\n",
       "    <tr>\n",
       "      <th>2020-01-02</th>\n",
       "      <td>0.910131</td>\n",
       "      <td>Thursday</td>\n",
       "    </tr>\n",
       "    <tr>\n",
       "      <th>2020-01-03</th>\n",
       "      <td>0.392731</td>\n",
       "      <td>Friday</td>\n",
       "    </tr>\n",
       "    <tr>\n",
       "      <th>2020-01-04</th>\n",
       "      <td>-0.799844</td>\n",
       "      <td>Saturday</td>\n",
       "    </tr>\n",
       "    <tr>\n",
       "      <th>2020-01-05</th>\n",
       "      <td>-0.452975</td>\n",
       "      <td>Sunday</td>\n",
       "    </tr>\n",
       "  </tbody>\n",
       "</table>\n",
       "</div>"
      ],
      "text/plain": [
       "                  ts   day_name\n",
       "2020-01-01  1.067809  Wednesday\n",
       "2020-01-02  0.910131   Thursday\n",
       "2020-01-03  0.392731     Friday\n",
       "2020-01-04 -0.799844   Saturday\n",
       "2020-01-05 -0.452975     Sunday"
      ]
     },
     "execution_count": 105,
     "metadata": {},
     "output_type": "execute_result"
    }
   ],
   "source": [
    "df_ts = pd.DataFrame({'ts':ts,\n",
    "                      'day_name':ts.index.day_name()})\n",
    "df_ts.head()"
   ]
  },
  {
   "cell_type": "code",
   "execution_count": 107,
   "id": "f6a50ade",
   "metadata": {},
   "outputs": [
    {
     "data": {
      "text/plain": [
       "DatetimeIndex(['2020-01-01', '2020-01-02', '2020-01-03', '2020-01-04',\n",
       "               '2020-01-05', '2020-01-06', '2020-01-07', '2020-01-08',\n",
       "               '2020-01-09', '2020-01-10',\n",
       "               ...\n",
       "               '2022-09-17', '2022-09-18', '2022-09-19', '2022-09-20',\n",
       "               '2022-09-21', '2022-09-22', '2022-09-23', '2022-09-24',\n",
       "               '2022-09-25', '2022-09-26'],\n",
       "              dtype='datetime64[ns]', length=1000, freq='D')"
      ]
     },
     "execution_count": 107,
     "metadata": {},
     "output_type": "execute_result"
    }
   ],
   "source": [
    "ts.index"
   ]
  },
  {
   "cell_type": "code",
   "execution_count": 108,
   "id": "2bda5ea0",
   "metadata": {},
   "outputs": [
    {
     "data": {
      "text/html": [
       "<div>\n",
       "<style scoped>\n",
       "    .dataframe tbody tr th:only-of-type {\n",
       "        vertical-align: middle;\n",
       "    }\n",
       "\n",
       "    .dataframe tbody tr th {\n",
       "        vertical-align: top;\n",
       "    }\n",
       "\n",
       "    .dataframe thead th {\n",
       "        text-align: right;\n",
       "    }\n",
       "</style>\n",
       "<table border=\"1\" class=\"dataframe\">\n",
       "  <thead>\n",
       "    <tr style=\"text-align: right;\">\n",
       "      <th></th>\n",
       "      <th>ts</th>\n",
       "      <th>day_name</th>\n",
       "      <th>day of week</th>\n",
       "    </tr>\n",
       "  </thead>\n",
       "  <tbody>\n",
       "    <tr>\n",
       "      <th>2020-01-01</th>\n",
       "      <td>1.067809</td>\n",
       "      <td>Wednesday</td>\n",
       "      <td>2</td>\n",
       "    </tr>\n",
       "    <tr>\n",
       "      <th>2020-01-02</th>\n",
       "      <td>0.910131</td>\n",
       "      <td>Thursday</td>\n",
       "      <td>3</td>\n",
       "    </tr>\n",
       "    <tr>\n",
       "      <th>2020-01-03</th>\n",
       "      <td>0.392731</td>\n",
       "      <td>Friday</td>\n",
       "      <td>4</td>\n",
       "    </tr>\n",
       "    <tr>\n",
       "      <th>2020-01-04</th>\n",
       "      <td>-0.799844</td>\n",
       "      <td>Saturday</td>\n",
       "      <td>5</td>\n",
       "    </tr>\n",
       "    <tr>\n",
       "      <th>2020-01-05</th>\n",
       "      <td>-0.452975</td>\n",
       "      <td>Sunday</td>\n",
       "      <td>6</td>\n",
       "    </tr>\n",
       "  </tbody>\n",
       "</table>\n",
       "</div>"
      ],
      "text/plain": [
       "                  ts   day_name  day of week\n",
       "2020-01-01  1.067809  Wednesday            2\n",
       "2020-01-02  0.910131   Thursday            3\n",
       "2020-01-03  0.392731     Friday            4\n",
       "2020-01-04 -0.799844   Saturday            5\n",
       "2020-01-05 -0.452975     Sunday            6"
      ]
     },
     "execution_count": 108,
     "metadata": {},
     "output_type": "execute_result"
    }
   ],
   "source": [
    "df_ts['day of week'] = ts.index.day_of_week\n",
    "df_ts.head()"
   ]
  },
  {
   "cell_type": "code",
   "execution_count": 109,
   "id": "bc997a37",
   "metadata": {},
   "outputs": [],
   "source": [
    "df_sales = pd.DataFrame({\n",
    "    'date': ['2023-01-29', '2023-01-30', '2023-02-01', '2023-02-02', '2023-02-03'],\n",
    "    'sales': [250, 275, 310, 290, 350]})"
   ]
  },
  {
   "cell_type": "code",
   "execution_count": 110,
   "id": "4e188929",
   "metadata": {},
   "outputs": [
    {
     "data": {
      "text/html": [
       "<div>\n",
       "<style scoped>\n",
       "    .dataframe tbody tr th:only-of-type {\n",
       "        vertical-align: middle;\n",
       "    }\n",
       "\n",
       "    .dataframe tbody tr th {\n",
       "        vertical-align: top;\n",
       "    }\n",
       "\n",
       "    .dataframe thead th {\n",
       "        text-align: right;\n",
       "    }\n",
       "</style>\n",
       "<table border=\"1\" class=\"dataframe\">\n",
       "  <thead>\n",
       "    <tr style=\"text-align: right;\">\n",
       "      <th></th>\n",
       "      <th>date</th>\n",
       "      <th>sales</th>\n",
       "    </tr>\n",
       "  </thead>\n",
       "  <tbody>\n",
       "    <tr>\n",
       "      <th>0</th>\n",
       "      <td>2023-01-29</td>\n",
       "      <td>250</td>\n",
       "    </tr>\n",
       "    <tr>\n",
       "      <th>1</th>\n",
       "      <td>2023-01-30</td>\n",
       "      <td>275</td>\n",
       "    </tr>\n",
       "    <tr>\n",
       "      <th>2</th>\n",
       "      <td>2023-02-01</td>\n",
       "      <td>310</td>\n",
       "    </tr>\n",
       "    <tr>\n",
       "      <th>3</th>\n",
       "      <td>2023-02-02</td>\n",
       "      <td>290</td>\n",
       "    </tr>\n",
       "    <tr>\n",
       "      <th>4</th>\n",
       "      <td>2023-02-03</td>\n",
       "      <td>350</td>\n",
       "    </tr>\n",
       "  </tbody>\n",
       "</table>\n",
       "</div>"
      ],
      "text/plain": [
       "         date  sales\n",
       "0  2023-01-29    250\n",
       "1  2023-01-30    275\n",
       "2  2023-02-01    310\n",
       "3  2023-02-02    290\n",
       "4  2023-02-03    350"
      ]
     },
     "execution_count": 110,
     "metadata": {},
     "output_type": "execute_result"
    }
   ],
   "source": [
    "df_sales"
   ]
  },
  {
   "cell_type": "code",
   "execution_count": 113,
   "id": "9e8ce860",
   "metadata": {},
   "outputs": [],
   "source": [
    "df_sales['date'] = pd.to_datetime(df_sales['date'], errors='coerce')"
   ]
  },
  {
   "cell_type": "code",
   "execution_count": 117,
   "id": "712c7b6c",
   "metadata": {},
   "outputs": [
    {
     "ename": "KeyError",
     "evalue": "\"None of ['date'] are in the columns\"",
     "output_type": "error",
     "traceback": [
      "\u001b[1;31m---------------------------------------------------------------------------\u001b[0m",
      "\u001b[1;31mKeyError\u001b[0m                                  Traceback (most recent call last)",
      "\u001b[1;32m~\\AppData\\Local\\Temp\\ipykernel_3560\\1123777430.py\u001b[0m in \u001b[0;36m?\u001b[1;34m()\u001b[0m\n\u001b[1;32m----> 1\u001b[1;33m \u001b[0mdf_sales\u001b[0m\u001b[1;33m.\u001b[0m\u001b[0mset_index\u001b[0m\u001b[1;33m(\u001b[0m\u001b[1;34m'date'\u001b[0m\u001b[1;33m,\u001b[0m \u001b[0minplace\u001b[0m\u001b[1;33m=\u001b[0m\u001b[1;32mTrue\u001b[0m\u001b[1;33m)\u001b[0m\u001b[1;33m\u001b[0m\u001b[1;33m\u001b[0m\u001b[0m\n\u001b[0m",
      "\u001b[1;32md:\\CODE\\env-teaching\\Lib\\site-packages\\pandas\\core\\frame.py\u001b[0m in \u001b[0;36m?\u001b[1;34m(self, keys, drop, append, inplace, verify_integrity)\u001b[0m\n\u001b[0;32m   6118\u001b[0m                     \u001b[1;32mif\u001b[0m \u001b[1;32mnot\u001b[0m \u001b[0mfound\u001b[0m\u001b[1;33m:\u001b[0m\u001b[1;33m\u001b[0m\u001b[1;33m\u001b[0m\u001b[0m\n\u001b[0;32m   6119\u001b[0m                         \u001b[0mmissing\u001b[0m\u001b[1;33m.\u001b[0m\u001b[0mappend\u001b[0m\u001b[1;33m(\u001b[0m\u001b[0mcol\u001b[0m\u001b[1;33m)\u001b[0m\u001b[1;33m\u001b[0m\u001b[1;33m\u001b[0m\u001b[0m\n\u001b[0;32m   6120\u001b[0m \u001b[1;33m\u001b[0m\u001b[0m\n\u001b[0;32m   6121\u001b[0m         \u001b[1;32mif\u001b[0m \u001b[0mmissing\u001b[0m\u001b[1;33m:\u001b[0m\u001b[1;33m\u001b[0m\u001b[1;33m\u001b[0m\u001b[0m\n\u001b[1;32m-> 6122\u001b[1;33m             \u001b[1;32mraise\u001b[0m \u001b[0mKeyError\u001b[0m\u001b[1;33m(\u001b[0m\u001b[1;34mf\"None of {missing} are in the columns\"\u001b[0m\u001b[1;33m)\u001b[0m\u001b[1;33m\u001b[0m\u001b[1;33m\u001b[0m\u001b[0m\n\u001b[0m\u001b[0;32m   6123\u001b[0m \u001b[1;33m\u001b[0m\u001b[0m\n\u001b[0;32m   6124\u001b[0m         \u001b[1;32mif\u001b[0m \u001b[0minplace\u001b[0m\u001b[1;33m:\u001b[0m\u001b[1;33m\u001b[0m\u001b[1;33m\u001b[0m\u001b[0m\n\u001b[0;32m   6125\u001b[0m             \u001b[0mframe\u001b[0m \u001b[1;33m=\u001b[0m \u001b[0mself\u001b[0m\u001b[1;33m\u001b[0m\u001b[1;33m\u001b[0m\u001b[0m\n",
      "\u001b[1;31mKeyError\u001b[0m: \"None of ['date'] are in the columns\""
     ]
    }
   ],
   "source": [
    "df_sales.set_index('date', inplace=True)"
   ]
  },
  {
   "cell_type": "code",
   "execution_count": 118,
   "id": "c01e47d5",
   "metadata": {},
   "outputs": [
    {
     "data": {
      "text/html": [
       "<div>\n",
       "<style scoped>\n",
       "    .dataframe tbody tr th:only-of-type {\n",
       "        vertical-align: middle;\n",
       "    }\n",
       "\n",
       "    .dataframe tbody tr th {\n",
       "        vertical-align: top;\n",
       "    }\n",
       "\n",
       "    .dataframe thead th {\n",
       "        text-align: right;\n",
       "    }\n",
       "</style>\n",
       "<table border=\"1\" class=\"dataframe\">\n",
       "  <thead>\n",
       "    <tr style=\"text-align: right;\">\n",
       "      <th></th>\n",
       "      <th>sales</th>\n",
       "    </tr>\n",
       "    <tr>\n",
       "      <th>date</th>\n",
       "      <th></th>\n",
       "    </tr>\n",
       "  </thead>\n",
       "  <tbody>\n",
       "    <tr>\n",
       "      <th>2023-01-29</th>\n",
       "      <td>250</td>\n",
       "    </tr>\n",
       "    <tr>\n",
       "      <th>2023-01-30</th>\n",
       "      <td>275</td>\n",
       "    </tr>\n",
       "    <tr>\n",
       "      <th>2023-02-01</th>\n",
       "      <td>310</td>\n",
       "    </tr>\n",
       "    <tr>\n",
       "      <th>2023-02-02</th>\n",
       "      <td>290</td>\n",
       "    </tr>\n",
       "    <tr>\n",
       "      <th>2023-02-03</th>\n",
       "      <td>350</td>\n",
       "    </tr>\n",
       "  </tbody>\n",
       "</table>\n",
       "</div>"
      ],
      "text/plain": [
       "            sales\n",
       "date             \n",
       "2023-01-29    250\n",
       "2023-01-30    275\n",
       "2023-02-01    310\n",
       "2023-02-02    290\n",
       "2023-02-03    350"
      ]
     },
     "execution_count": 118,
     "metadata": {},
     "output_type": "execute_result"
    }
   ],
   "source": [
    "df_sales"
   ]
  },
  {
   "cell_type": "code",
   "execution_count": 119,
   "id": "37866ee1",
   "metadata": {},
   "outputs": [],
   "source": [
    "df_sales['day of week'] = df_sales.index.day_of_week"
   ]
  },
  {
   "cell_type": "code",
   "execution_count": 120,
   "id": "73e98597",
   "metadata": {},
   "outputs": [
    {
     "data": {
      "text/html": [
       "<div>\n",
       "<style scoped>\n",
       "    .dataframe tbody tr th:only-of-type {\n",
       "        vertical-align: middle;\n",
       "    }\n",
       "\n",
       "    .dataframe tbody tr th {\n",
       "        vertical-align: top;\n",
       "    }\n",
       "\n",
       "    .dataframe thead th {\n",
       "        text-align: right;\n",
       "    }\n",
       "</style>\n",
       "<table border=\"1\" class=\"dataframe\">\n",
       "  <thead>\n",
       "    <tr style=\"text-align: right;\">\n",
       "      <th></th>\n",
       "      <th>sales</th>\n",
       "      <th>day of week</th>\n",
       "    </tr>\n",
       "    <tr>\n",
       "      <th>date</th>\n",
       "      <th></th>\n",
       "      <th></th>\n",
       "    </tr>\n",
       "  </thead>\n",
       "  <tbody>\n",
       "    <tr>\n",
       "      <th>2023-01-29</th>\n",
       "      <td>250</td>\n",
       "      <td>6</td>\n",
       "    </tr>\n",
       "    <tr>\n",
       "      <th>2023-01-30</th>\n",
       "      <td>275</td>\n",
       "      <td>0</td>\n",
       "    </tr>\n",
       "    <tr>\n",
       "      <th>2023-02-01</th>\n",
       "      <td>310</td>\n",
       "      <td>2</td>\n",
       "    </tr>\n",
       "    <tr>\n",
       "      <th>2023-02-02</th>\n",
       "      <td>290</td>\n",
       "      <td>3</td>\n",
       "    </tr>\n",
       "    <tr>\n",
       "      <th>2023-02-03</th>\n",
       "      <td>350</td>\n",
       "      <td>4</td>\n",
       "    </tr>\n",
       "  </tbody>\n",
       "</table>\n",
       "</div>"
      ],
      "text/plain": [
       "            sales  day of week\n",
       "date                          \n",
       "2023-01-29    250            6\n",
       "2023-01-30    275            0\n",
       "2023-02-01    310            2\n",
       "2023-02-02    290            3\n",
       "2023-02-03    350            4"
      ]
     },
     "execution_count": 120,
     "metadata": {},
     "output_type": "execute_result"
    }
   ],
   "source": [
    "df_sales"
   ]
  },
  {
   "cell_type": "code",
   "execution_count": 122,
   "id": "13918b45",
   "metadata": {},
   "outputs": [
    {
     "data": {
      "text/html": [
       "<div>\n",
       "<style scoped>\n",
       "    .dataframe tbody tr th:only-of-type {\n",
       "        vertical-align: middle;\n",
       "    }\n",
       "\n",
       "    .dataframe tbody tr th {\n",
       "        vertical-align: top;\n",
       "    }\n",
       "\n",
       "    .dataframe thead th {\n",
       "        text-align: right;\n",
       "    }\n",
       "</style>\n",
       "<table border=\"1\" class=\"dataframe\">\n",
       "  <thead>\n",
       "    <tr style=\"text-align: right;\">\n",
       "      <th></th>\n",
       "      <th>ts</th>\n",
       "      <th>day_name</th>\n",
       "      <th>day of week</th>\n",
       "    </tr>\n",
       "  </thead>\n",
       "  <tbody>\n",
       "    <tr>\n",
       "      <th>2020-01-01</th>\n",
       "      <td>1.067809</td>\n",
       "      <td>Wednesday</td>\n",
       "      <td>2</td>\n",
       "    </tr>\n",
       "    <tr>\n",
       "      <th>2020-01-02</th>\n",
       "      <td>0.910131</td>\n",
       "      <td>Thursday</td>\n",
       "      <td>3</td>\n",
       "    </tr>\n",
       "    <tr>\n",
       "      <th>2020-01-03</th>\n",
       "      <td>0.392731</td>\n",
       "      <td>Friday</td>\n",
       "      <td>4</td>\n",
       "    </tr>\n",
       "    <tr>\n",
       "      <th>2020-01-04</th>\n",
       "      <td>-0.799844</td>\n",
       "      <td>Saturday</td>\n",
       "      <td>5</td>\n",
       "    </tr>\n",
       "    <tr>\n",
       "      <th>2020-01-05</th>\n",
       "      <td>-0.452975</td>\n",
       "      <td>Sunday</td>\n",
       "      <td>6</td>\n",
       "    </tr>\n",
       "  </tbody>\n",
       "</table>\n",
       "</div>"
      ],
      "text/plain": [
       "                  ts   day_name  day of week\n",
       "2020-01-01  1.067809  Wednesday            2\n",
       "2020-01-02  0.910131   Thursday            3\n",
       "2020-01-03  0.392731     Friday            4\n",
       "2020-01-04 -0.799844   Saturday            5\n",
       "2020-01-05 -0.452975     Sunday            6"
      ]
     },
     "execution_count": 122,
     "metadata": {},
     "output_type": "execute_result"
    }
   ],
   "source": [
    "df_ts.head(5)"
   ]
  },
  {
   "cell_type": "code",
   "execution_count": 130,
   "id": "9aa20f5e",
   "metadata": {},
   "outputs": [
    {
     "data": {
      "text/html": [
       "<div>\n",
       "<style scoped>\n",
       "    .dataframe tbody tr th:only-of-type {\n",
       "        vertical-align: middle;\n",
       "    }\n",
       "\n",
       "    .dataframe tbody tr th {\n",
       "        vertical-align: top;\n",
       "    }\n",
       "\n",
       "    .dataframe thead th {\n",
       "        text-align: right;\n",
       "    }\n",
       "</style>\n",
       "<table border=\"1\" class=\"dataframe\">\n",
       "  <thead>\n",
       "    <tr style=\"text-align: right;\">\n",
       "      <th></th>\n",
       "      <th>ts</th>\n",
       "    </tr>\n",
       "    <tr>\n",
       "      <th>day of week</th>\n",
       "      <th></th>\n",
       "    </tr>\n",
       "  </thead>\n",
       "  <tbody>\n",
       "    <tr>\n",
       "      <th>3</th>\n",
       "      <td>0.101615</td>\n",
       "    </tr>\n",
       "    <tr>\n",
       "      <th>0</th>\n",
       "      <td>0.070168</td>\n",
       "    </tr>\n",
       "    <tr>\n",
       "      <th>2</th>\n",
       "      <td>0.042524</td>\n",
       "    </tr>\n",
       "    <tr>\n",
       "      <th>1</th>\n",
       "      <td>-0.025738</td>\n",
       "    </tr>\n",
       "    <tr>\n",
       "      <th>5</th>\n",
       "      <td>-0.083291</td>\n",
       "    </tr>\n",
       "    <tr>\n",
       "      <th>4</th>\n",
       "      <td>-0.120222</td>\n",
       "    </tr>\n",
       "    <tr>\n",
       "      <th>6</th>\n",
       "      <td>-0.149143</td>\n",
       "    </tr>\n",
       "  </tbody>\n",
       "</table>\n",
       "</div>"
      ],
      "text/plain": [
       "                   ts\n",
       "day of week          \n",
       "3            0.101615\n",
       "0            0.070168\n",
       "2            0.042524\n",
       "1           -0.025738\n",
       "5           -0.083291\n",
       "4           -0.120222\n",
       "6           -0.149143"
      ]
     },
     "execution_count": 130,
     "metadata": {},
     "output_type": "execute_result"
    }
   ],
   "source": [
    "df_ts[['ts','day of week']].groupby('day of week').mean().sort_values(by='ts', ascending=False)"
   ]
  },
  {
   "cell_type": "code",
   "execution_count": 131,
   "id": "39bfe345",
   "metadata": {},
   "outputs": [
    {
     "data": {
      "text/html": [
       "<div>\n",
       "<style scoped>\n",
       "    .dataframe tbody tr th:only-of-type {\n",
       "        vertical-align: middle;\n",
       "    }\n",
       "\n",
       "    .dataframe tbody tr th {\n",
       "        vertical-align: top;\n",
       "    }\n",
       "\n",
       "    .dataframe thead th {\n",
       "        text-align: right;\n",
       "    }\n",
       "</style>\n",
       "<table border=\"1\" class=\"dataframe\">\n",
       "  <thead>\n",
       "    <tr style=\"text-align: right;\">\n",
       "      <th></th>\n",
       "      <th>InvoiceNo</th>\n",
       "      <th>StockCode</th>\n",
       "      <th>Description</th>\n",
       "      <th>Quantity</th>\n",
       "      <th>InvoiceDate</th>\n",
       "      <th>UnitPrice</th>\n",
       "      <th>CustomerID</th>\n",
       "      <th>Country</th>\n",
       "    </tr>\n",
       "  </thead>\n",
       "  <tbody>\n",
       "    <tr>\n",
       "      <th>0</th>\n",
       "      <td>536365</td>\n",
       "      <td>85123A</td>\n",
       "      <td>WHITE HANGING HEART T-LIGHT HOLDER</td>\n",
       "      <td>6</td>\n",
       "      <td>2010-12-01 08:26:00</td>\n",
       "      <td>2.55</td>\n",
       "      <td>17850.0</td>\n",
       "      <td>United Kingdom</td>\n",
       "    </tr>\n",
       "    <tr>\n",
       "      <th>1</th>\n",
       "      <td>536365</td>\n",
       "      <td>71053</td>\n",
       "      <td>WHITE METAL LANTERN</td>\n",
       "      <td>6</td>\n",
       "      <td>2010-12-01 08:26:00</td>\n",
       "      <td>3.39</td>\n",
       "      <td>17850.0</td>\n",
       "      <td>United Kingdom</td>\n",
       "    </tr>\n",
       "    <tr>\n",
       "      <th>2</th>\n",
       "      <td>536365</td>\n",
       "      <td>84406B</td>\n",
       "      <td>CREAM CUPID HEARTS COAT HANGER</td>\n",
       "      <td>8</td>\n",
       "      <td>2010-12-01 08:26:00</td>\n",
       "      <td>2.75</td>\n",
       "      <td>17850.0</td>\n",
       "      <td>United Kingdom</td>\n",
       "    </tr>\n",
       "    <tr>\n",
       "      <th>3</th>\n",
       "      <td>536365</td>\n",
       "      <td>84029G</td>\n",
       "      <td>KNITTED UNION FLAG HOT WATER BOTTLE</td>\n",
       "      <td>6</td>\n",
       "      <td>2010-12-01 08:26:00</td>\n",
       "      <td>3.39</td>\n",
       "      <td>17850.0</td>\n",
       "      <td>United Kingdom</td>\n",
       "    </tr>\n",
       "    <tr>\n",
       "      <th>4</th>\n",
       "      <td>536365</td>\n",
       "      <td>84029E</td>\n",
       "      <td>RED WOOLLY HOTTIE WHITE HEART.</td>\n",
       "      <td>6</td>\n",
       "      <td>2010-12-01 08:26:00</td>\n",
       "      <td>3.39</td>\n",
       "      <td>17850.0</td>\n",
       "      <td>United Kingdom</td>\n",
       "    </tr>\n",
       "  </tbody>\n",
       "</table>\n",
       "</div>"
      ],
      "text/plain": [
       "  InvoiceNo StockCode                          Description  Quantity  \\\n",
       "0    536365    85123A   WHITE HANGING HEART T-LIGHT HOLDER         6   \n",
       "1    536365     71053                  WHITE METAL LANTERN         6   \n",
       "2    536365    84406B       CREAM CUPID HEARTS COAT HANGER         8   \n",
       "3    536365    84029G  KNITTED UNION FLAG HOT WATER BOTTLE         6   \n",
       "4    536365    84029E       RED WOOLLY HOTTIE WHITE HEART.         6   \n",
       "\n",
       "          InvoiceDate  UnitPrice  CustomerID         Country  \n",
       "0 2010-12-01 08:26:00       2.55     17850.0  United Kingdom  \n",
       "1 2010-12-01 08:26:00       3.39     17850.0  United Kingdom  \n",
       "2 2010-12-01 08:26:00       2.75     17850.0  United Kingdom  \n",
       "3 2010-12-01 08:26:00       3.39     17850.0  United Kingdom  \n",
       "4 2010-12-01 08:26:00       3.39     17850.0  United Kingdom  "
      ]
     },
     "execution_count": 131,
     "metadata": {},
     "output_type": "execute_result"
    }
   ],
   "source": [
    "df_retail.head()"
   ]
  },
  {
   "cell_type": "code",
   "execution_count": null,
   "id": "4c3ba547",
   "metadata": {},
   "outputs": [],
   "source": []
  }
 ],
 "metadata": {
  "kernelspec": {
   "display_name": "env-teaching",
   "language": "python",
   "name": "python3"
  },
  "language_info": {
   "codemirror_mode": {
    "name": "ipython",
    "version": 3
   },
   "file_extension": ".py",
   "mimetype": "text/x-python",
   "name": "python",
   "nbconvert_exporter": "python",
   "pygments_lexer": "ipython3",
   "version": "3.11.7"
  }
 },
 "nbformat": 4,
 "nbformat_minor": 5
}
